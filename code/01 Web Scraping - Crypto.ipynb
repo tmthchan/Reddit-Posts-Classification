{
 "cells": [
  {
   "cell_type": "markdown",
   "id": "758a23b7",
   "metadata": {},
   "source": [
    "# 1. Web Scraping - r/CryptoCurrency"
   ]
  },
  {
   "cell_type": "code",
   "execution_count": 1,
   "id": "db70b65a",
   "metadata": {},
   "outputs": [],
   "source": [
    "import pandas as pd\n",
    "import requests\n",
    "import time"
   ]
  },
  {
   "cell_type": "code",
   "execution_count": 2,
   "id": "e53ba4d0",
   "metadata": {},
   "outputs": [],
   "source": [
    "# set base url\n",
    "url = 'https://api.pushshift.io/reddit/search/submission'"
   ]
  },
  {
   "cell_type": "code",
   "execution_count": 3,
   "id": "0f7bb28e",
   "metadata": {},
   "outputs": [],
   "source": [
    "# set parameters for scraping\n",
    "params = {\n",
    "    'subreddit':'CryptoCurrency',\n",
    "    'size': 100,\n",
    "    'before': 1626851005\n",
    "}"
   ]
  },
  {
   "cell_type": "code",
   "execution_count": 4,
   "id": "0e46f659",
   "metadata": {},
   "outputs": [],
   "source": [
    "# assign response\n",
    "res = requests.get(url, params)"
   ]
  },
  {
   "cell_type": "code",
   "execution_count": 5,
   "id": "9613b9fc",
   "metadata": {},
   "outputs": [
    {
     "data": {
      "text/plain": [
       "200"
      ]
     },
     "execution_count": 5,
     "metadata": {},
     "output_type": "execute_result"
    }
   ],
   "source": [
    "# get status code\n",
    "res.status_code"
   ]
  },
  {
   "cell_type": "code",
   "execution_count": 6,
   "id": "2de80e94",
   "metadata": {},
   "outputs": [],
   "source": [
    "# save the response into a dataset\n",
    "data = res.json()"
   ]
  },
  {
   "cell_type": "code",
   "execution_count": 7,
   "id": "11249fe2",
   "metadata": {},
   "outputs": [
    {
     "name": "stdout",
     "output_type": "stream",
     "text": [
      "<class 'dict'>\n"
     ]
    }
   ],
   "source": [
    "print(type(data))"
   ]
  },
  {
   "cell_type": "code",
   "execution_count": 8,
   "id": "0985e7dd",
   "metadata": {},
   "outputs": [],
   "source": [
    "# add dict to a list\n",
    "list = []\n",
    "list.append(data)"
   ]
  },
  {
   "cell_type": "code",
   "execution_count": 9,
   "id": "8b467929",
   "metadata": {},
   "outputs": [],
   "source": [
    "# save the 'data' key in data dictionary as posts\n",
    "posts = data['data']"
   ]
  },
  {
   "cell_type": "code",
   "execution_count": 10,
   "id": "2aae5911",
   "metadata": {},
   "outputs": [
    {
     "data": {
      "text/plain": [
       "100"
      ]
     },
     "execution_count": 10,
     "metadata": {},
     "output_type": "execute_result"
    }
   ],
   "source": [
    "len(posts)"
   ]
  },
  {
   "cell_type": "code",
   "execution_count": 11,
   "id": "8d1f4646",
   "metadata": {},
   "outputs": [],
   "source": [
    "# save the posts as a dataframe\n",
    "df = pd.DataFrame(posts)"
   ]
  },
  {
   "cell_type": "code",
   "execution_count": 12,
   "id": "887c76f9",
   "metadata": {},
   "outputs": [
    {
     "data": {
      "text/html": [
       "<div>\n",
       "<style scoped>\n",
       "    .dataframe tbody tr th:only-of-type {\n",
       "        vertical-align: middle;\n",
       "    }\n",
       "\n",
       "    .dataframe tbody tr th {\n",
       "        vertical-align: top;\n",
       "    }\n",
       "\n",
       "    .dataframe thead th {\n",
       "        text-align: right;\n",
       "    }\n",
       "</style>\n",
       "<table border=\"1\" class=\"dataframe\">\n",
       "  <thead>\n",
       "    <tr style=\"text-align: right;\">\n",
       "      <th></th>\n",
       "      <th>all_awardings</th>\n",
       "      <th>allow_live_comments</th>\n",
       "      <th>author</th>\n",
       "      <th>author_flair_background_color</th>\n",
       "      <th>author_flair_css_class</th>\n",
       "      <th>author_flair_richtext</th>\n",
       "      <th>author_flair_text</th>\n",
       "      <th>author_flair_text_color</th>\n",
       "      <th>author_flair_type</th>\n",
       "      <th>author_fullname</th>\n",
       "      <th>...</th>\n",
       "      <th>removed_by_category</th>\n",
       "      <th>media</th>\n",
       "      <th>media_embed</th>\n",
       "      <th>secure_media</th>\n",
       "      <th>secure_media_embed</th>\n",
       "      <th>crosspost_parent</th>\n",
       "      <th>crosspost_parent_list</th>\n",
       "      <th>author_cakeday</th>\n",
       "      <th>media_metadata</th>\n",
       "      <th>author_flair_template_id</th>\n",
       "    </tr>\n",
       "  </thead>\n",
       "  <tbody>\n",
       "    <tr>\n",
       "      <th>0</th>\n",
       "      <td>[]</td>\n",
       "      <td>False</td>\n",
       "      <td>kirtash93</td>\n",
       "      <td></td>\n",
       "      <td>Training</td>\n",
       "      <td>[{'e': 'text', 't': 'Redditor for 2 months.'}]</td>\n",
       "      <td>Redditor for 2 months.</td>\n",
       "      <td>dark</td>\n",
       "      <td>richtext</td>\n",
       "      <td>t2_ax5ierpr</td>\n",
       "      <td>...</td>\n",
       "      <td>NaN</td>\n",
       "      <td>NaN</td>\n",
       "      <td>NaN</td>\n",
       "      <td>NaN</td>\n",
       "      <td>NaN</td>\n",
       "      <td>NaN</td>\n",
       "      <td>NaN</td>\n",
       "      <td>NaN</td>\n",
       "      <td>NaN</td>\n",
       "      <td>NaN</td>\n",
       "    </tr>\n",
       "    <tr>\n",
       "      <th>1</th>\n",
       "      <td>[]</td>\n",
       "      <td>True</td>\n",
       "      <td>Sharan-Reddy</td>\n",
       "      <td></td>\n",
       "      <td>Transitioning</td>\n",
       "      <td>[{'e': 'text', 't': ' '}]</td>\n",
       "      <td></td>\n",
       "      <td>dark</td>\n",
       "      <td>richtext</td>\n",
       "      <td>t2_4w6vj3re</td>\n",
       "      <td>...</td>\n",
       "      <td>NaN</td>\n",
       "      <td>NaN</td>\n",
       "      <td>NaN</td>\n",
       "      <td>NaN</td>\n",
       "      <td>NaN</td>\n",
       "      <td>NaN</td>\n",
       "      <td>NaN</td>\n",
       "      <td>NaN</td>\n",
       "      <td>NaN</td>\n",
       "      <td>NaN</td>\n",
       "    </tr>\n",
       "    <tr>\n",
       "      <th>2</th>\n",
       "      <td>[]</td>\n",
       "      <td>False</td>\n",
       "      <td>KAX1107</td>\n",
       "      <td></td>\n",
       "      <td>Transitioning</td>\n",
       "      <td>[{'e': 'text', 't': ' '}]</td>\n",
       "      <td></td>\n",
       "      <td>dark</td>\n",
       "      <td>richtext</td>\n",
       "      <td>t2_5iwpoff1</td>\n",
       "      <td>...</td>\n",
       "      <td>NaN</td>\n",
       "      <td>NaN</td>\n",
       "      <td>NaN</td>\n",
       "      <td>NaN</td>\n",
       "      <td>NaN</td>\n",
       "      <td>NaN</td>\n",
       "      <td>NaN</td>\n",
       "      <td>NaN</td>\n",
       "      <td>NaN</td>\n",
       "      <td>NaN</td>\n",
       "    </tr>\n",
       "    <tr>\n",
       "      <th>3</th>\n",
       "      <td>[]</td>\n",
       "      <td>False</td>\n",
       "      <td>Individual_Catch3285</td>\n",
       "      <td></td>\n",
       "      <td>Training</td>\n",
       "      <td>[{'e': 'text', 't': 'Redditor for 2 months.'}]</td>\n",
       "      <td>Redditor for 2 months.</td>\n",
       "      <td>dark</td>\n",
       "      <td>richtext</td>\n",
       "      <td>t2_bxb7nd2t</td>\n",
       "      <td>...</td>\n",
       "      <td>NaN</td>\n",
       "      <td>NaN</td>\n",
       "      <td>NaN</td>\n",
       "      <td>NaN</td>\n",
       "      <td>NaN</td>\n",
       "      <td>NaN</td>\n",
       "      <td>NaN</td>\n",
       "      <td>NaN</td>\n",
       "      <td>NaN</td>\n",
       "      <td>NaN</td>\n",
       "    </tr>\n",
       "    <tr>\n",
       "      <th>4</th>\n",
       "      <td>[]</td>\n",
       "      <td>False</td>\n",
       "      <td>timestampmagazine</td>\n",
       "      <td>NaN</td>\n",
       "      <td>None</td>\n",
       "      <td>[]</td>\n",
       "      <td>None</td>\n",
       "      <td>NaN</td>\n",
       "      <td>text</td>\n",
       "      <td>t2_adgv0e9o</td>\n",
       "      <td>...</td>\n",
       "      <td>reddit</td>\n",
       "      <td>NaN</td>\n",
       "      <td>NaN</td>\n",
       "      <td>NaN</td>\n",
       "      <td>NaN</td>\n",
       "      <td>NaN</td>\n",
       "      <td>NaN</td>\n",
       "      <td>NaN</td>\n",
       "      <td>NaN</td>\n",
       "      <td>NaN</td>\n",
       "    </tr>\n",
       "  </tbody>\n",
       "</table>\n",
       "<p>5 rows × 81 columns</p>\n",
       "</div>"
      ],
      "text/plain": [
       "  all_awardings  allow_live_comments                author  \\\n",
       "0            []                False             kirtash93   \n",
       "1            []                 True          Sharan-Reddy   \n",
       "2            []                False               KAX1107   \n",
       "3            []                False  Individual_Catch3285   \n",
       "4            []                False     timestampmagazine   \n",
       "\n",
       "  author_flair_background_color author_flair_css_class  \\\n",
       "0                                             Training   \n",
       "1                                        Transitioning   \n",
       "2                                        Transitioning   \n",
       "3                                             Training   \n",
       "4                           NaN                   None   \n",
       "\n",
       "                            author_flair_richtext       author_flair_text  \\\n",
       "0  [{'e': 'text', 't': 'Redditor for 2 months.'}]  Redditor for 2 months.   \n",
       "1                       [{'e': 'text', 't': ' '}]                           \n",
       "2                       [{'e': 'text', 't': ' '}]                           \n",
       "3  [{'e': 'text', 't': 'Redditor for 2 months.'}]  Redditor for 2 months.   \n",
       "4                                              []                    None   \n",
       "\n",
       "  author_flair_text_color author_flair_type author_fullname  ...  \\\n",
       "0                    dark          richtext     t2_ax5ierpr  ...   \n",
       "1                    dark          richtext     t2_4w6vj3re  ...   \n",
       "2                    dark          richtext     t2_5iwpoff1  ...   \n",
       "3                    dark          richtext     t2_bxb7nd2t  ...   \n",
       "4                     NaN              text     t2_adgv0e9o  ...   \n",
       "\n",
       "  removed_by_category  media  media_embed secure_media  secure_media_embed  \\\n",
       "0                 NaN    NaN          NaN          NaN                 NaN   \n",
       "1                 NaN    NaN          NaN          NaN                 NaN   \n",
       "2                 NaN    NaN          NaN          NaN                 NaN   \n",
       "3                 NaN    NaN          NaN          NaN                 NaN   \n",
       "4              reddit    NaN          NaN          NaN                 NaN   \n",
       "\n",
       "   crosspost_parent  crosspost_parent_list author_cakeday media_metadata  \\\n",
       "0               NaN                    NaN            NaN            NaN   \n",
       "1               NaN                    NaN            NaN            NaN   \n",
       "2               NaN                    NaN            NaN            NaN   \n",
       "3               NaN                    NaN            NaN            NaN   \n",
       "4               NaN                    NaN            NaN            NaN   \n",
       "\n",
       "  author_flair_template_id  \n",
       "0                      NaN  \n",
       "1                      NaN  \n",
       "2                      NaN  \n",
       "3                      NaN  \n",
       "4                      NaN  \n",
       "\n",
       "[5 rows x 81 columns]"
      ]
     },
     "execution_count": 12,
     "metadata": {},
     "output_type": "execute_result"
    }
   ],
   "source": [
    "df.head()"
   ]
  },
  {
   "cell_type": "code",
   "execution_count": 13,
   "id": "5729007a",
   "metadata": {
    "scrolled": true
   },
   "outputs": [],
   "source": [
    "# select only 4 columns for dataframe 'subreddit','selftext', 'title','created_utc'\n",
    "data = df[['subreddit','selftext', 'title','created_utc']]"
   ]
  },
  {
   "cell_type": "code",
   "execution_count": 14,
   "id": "4d96668f",
   "metadata": {},
   "outputs": [
    {
     "data": {
      "text/html": [
       "<div>\n",
       "<style scoped>\n",
       "    .dataframe tbody tr th:only-of-type {\n",
       "        vertical-align: middle;\n",
       "    }\n",
       "\n",
       "    .dataframe tbody tr th {\n",
       "        vertical-align: top;\n",
       "    }\n",
       "\n",
       "    .dataframe thead th {\n",
       "        text-align: right;\n",
       "    }\n",
       "</style>\n",
       "<table border=\"1\" class=\"dataframe\">\n",
       "  <thead>\n",
       "    <tr style=\"text-align: right;\">\n",
       "      <th></th>\n",
       "      <th>subreddit</th>\n",
       "      <th>selftext</th>\n",
       "      <th>title</th>\n",
       "      <th>created_utc</th>\n",
       "    </tr>\n",
       "  </thead>\n",
       "  <tbody>\n",
       "    <tr>\n",
       "      <th>0</th>\n",
       "      <td>CryptoCurrency</td>\n",
       "      <td>Hello everyone, yesterday I was thinking about...</td>\n",
       "      <td>Should I create a gymkhana with all my cryptoc...</td>\n",
       "      <td>1626850949</td>\n",
       "    </tr>\n",
       "    <tr>\n",
       "      <th>1</th>\n",
       "      <td>CryptoCurrency</td>\n",
       "      <td>So I don’t understand why countries can ban cr...</td>\n",
       "      <td>A country’s ban on crypto is only valid if you...</td>\n",
       "      <td>1626850702</td>\n",
       "    </tr>\n",
       "    <tr>\n",
       "      <th>2</th>\n",
       "      <td>CryptoCurrency</td>\n",
       "      <td>Listen, nothing you read on the internet is fi...</td>\n",
       "      <td>I was already convinced. Fibonacci golden rati...</td>\n",
       "      <td>1626850642</td>\n",
       "    </tr>\n",
       "    <tr>\n",
       "      <th>3</th>\n",
       "      <td>CryptoCurrency</td>\n",
       "      <td></td>\n",
       "      <td>*According to Research From Fidelity * - 71% o...</td>\n",
       "      <td>1626850580</td>\n",
       "    </tr>\n",
       "    <tr>\n",
       "      <th>4</th>\n",
       "      <td>CryptoCurrency</td>\n",
       "      <td></td>\n",
       "      <td>Illegal Crypto Miners in Ukraine Found Manipul...</td>\n",
       "      <td>1626850543</td>\n",
       "    </tr>\n",
       "  </tbody>\n",
       "</table>\n",
       "</div>"
      ],
      "text/plain": [
       "        subreddit                                           selftext  \\\n",
       "0  CryptoCurrency  Hello everyone, yesterday I was thinking about...   \n",
       "1  CryptoCurrency  So I don’t understand why countries can ban cr...   \n",
       "2  CryptoCurrency  Listen, nothing you read on the internet is fi...   \n",
       "3  CryptoCurrency                                                      \n",
       "4  CryptoCurrency                                                      \n",
       "\n",
       "                                               title  created_utc  \n",
       "0  Should I create a gymkhana with all my cryptoc...   1626850949  \n",
       "1  A country’s ban on crypto is only valid if you...   1626850702  \n",
       "2  I was already convinced. Fibonacci golden rati...   1626850642  \n",
       "3  *According to Research From Fidelity * - 71% o...   1626850580  \n",
       "4  Illegal Crypto Miners in Ukraine Found Manipul...   1626850543  "
      ]
     },
     "execution_count": 14,
     "metadata": {},
     "output_type": "execute_result"
    }
   ],
   "source": [
    "data.head()"
   ]
  },
  {
   "cell_type": "code",
   "execution_count": 15,
   "id": "c4797093",
   "metadata": {},
   "outputs": [
    {
     "data": {
      "text/plain": [
       "subreddit      0\n",
       "selftext       0\n",
       "title          0\n",
       "created_utc    0\n",
       "dtype: int64"
      ]
     },
     "execution_count": 15,
     "metadata": {},
     "output_type": "execute_result"
    }
   ],
   "source": [
    "data.isnull().sum()"
   ]
  },
  {
   "cell_type": "code",
   "execution_count": 16,
   "id": "9b261ebb",
   "metadata": {},
   "outputs": [
    {
     "data": {
      "text/plain": [
       "1626843559"
      ]
     },
     "execution_count": 16,
     "metadata": {},
     "output_type": "execute_result"
    }
   ],
   "source": [
    "data.iloc[99]['created_utc']"
   ]
  },
  {
   "cell_type": "code",
   "execution_count": 17,
   "id": "3cf408b5",
   "metadata": {},
   "outputs": [
    {
     "data": {
      "text/plain": [
       "subreddit                                         CryptoCurrency\n",
       "selftext       So this is the app: https://app.goodcrypto.app...\n",
       "title          Has anyone had experience with this API app, G...\n",
       "created_utc                                           1626843559\n",
       "Name: 99, dtype: object"
      ]
     },
     "execution_count": 17,
     "metadata": {},
     "output_type": "execute_result"
    }
   ],
   "source": [
    "data.iloc[-1]"
   ]
  },
  {
   "cell_type": "code",
   "execution_count": 18,
   "id": "3d06918f",
   "metadata": {},
   "outputs": [
    {
     "name": "stdout",
     "output_type": "stream",
     "text": [
      "200\n",
      "0 :  100\n",
      "200\n",
      "1 :  100\n",
      "200\n",
      "2 :  100\n",
      "200\n",
      "3 :  100\n",
      "200\n",
      "4 :  100\n",
      "200\n",
      "5 :  100\n",
      "200\n",
      "6 :  100\n",
      "200\n",
      "7 :  100\n",
      "200\n",
      "8 :  100\n",
      "200\n",
      "9 :  100\n",
      "200\n",
      "10 :  100\n",
      "200\n",
      "11 :  100\n",
      "200\n",
      "12 :  100\n",
      "200\n",
      "13 :  100\n",
      "200\n",
      "14 :  100\n",
      "200\n",
      "15 :  100\n",
      "200\n",
      "16 :  100\n",
      "200\n",
      "17 :  100\n",
      "200\n",
      "18 :  100\n",
      "200\n",
      "19 :  100\n",
      "200\n",
      "20 :  100\n",
      "200\n",
      "21 :  100\n",
      "200\n",
      "22 :  100\n",
      "200\n",
      "23 :  100\n",
      "200\n",
      "24 :  100\n",
      "200\n",
      "25 :  100\n",
      "200\n",
      "26 :  100\n",
      "200\n",
      "27 :  100\n",
      "200\n",
      "28 :  100\n",
      "200\n",
      "29 :  100\n",
      "200\n",
      "30 :  100\n",
      "200\n",
      "31 :  100\n",
      "200\n",
      "32 :  100\n",
      "200\n",
      "33 :  100\n",
      "200\n",
      "34 :  100\n",
      "200\n",
      "35 :  100\n",
      "200\n",
      "36 :  100\n",
      "200\n",
      "37 :  100\n",
      "200\n",
      "38 :  100\n",
      "200\n",
      "39 :  100\n",
      "200\n",
      "40 :  100\n",
      "200\n",
      "41 :  100\n",
      "200\n",
      "42 :  100\n",
      "200\n",
      "43 :  100\n",
      "200\n",
      "44 :  100\n",
      "200\n",
      "45 :  100\n",
      "200\n",
      "46 :  100\n",
      "200\n",
      "47 :  100\n",
      "200\n",
      "48 :  100\n",
      "200\n",
      "49 :  100\n"
     ]
    }
   ],
   "source": [
    "# create for loop to scrape data from r/CryptoCurrency\n",
    "\n",
    "for i in range(50):\n",
    "    params = {\n",
    "        \"subreddit\": \"CryptoCurrency\",\n",
    "        \"size\": 100,\n",
    "        \"before\": data.iloc[-1]['created_utc']\n",
    "    }\n",
    "    response = requests.get(url, params)\n",
    "    print(response.status_code)\n",
    "    scraped_data = response.json()\n",
    "    posts = scraped_data[\"data\"]\n",
    "    print(i, \": \", len(posts))\n",
    "    df = pd.DataFrame(posts)\n",
    "    data_new = df[['subreddit','selftext', 'title','created_utc']]\n",
    "    data = data.append(data_new, ignore_index=True)\n",
    "    time.sleep(10)"
   ]
  },
  {
   "cell_type": "code",
   "execution_count": 19,
   "id": "61578612",
   "metadata": {},
   "outputs": [
    {
     "data": {
      "text/html": [
       "<div>\n",
       "<style scoped>\n",
       "    .dataframe tbody tr th:only-of-type {\n",
       "        vertical-align: middle;\n",
       "    }\n",
       "\n",
       "    .dataframe tbody tr th {\n",
       "        vertical-align: top;\n",
       "    }\n",
       "\n",
       "    .dataframe thead th {\n",
       "        text-align: right;\n",
       "    }\n",
       "</style>\n",
       "<table border=\"1\" class=\"dataframe\">\n",
       "  <thead>\n",
       "    <tr style=\"text-align: right;\">\n",
       "      <th></th>\n",
       "      <th>subreddit</th>\n",
       "      <th>selftext</th>\n",
       "      <th>title</th>\n",
       "      <th>created_utc</th>\n",
       "    </tr>\n",
       "  </thead>\n",
       "  <tbody>\n",
       "    <tr>\n",
       "      <th>5095</th>\n",
       "      <td>CryptoCurrency</td>\n",
       "      <td>Today I just got almost exactly halfway to my ...</td>\n",
       "      <td>Half way to my goal of X amount of BTC</td>\n",
       "      <td>1626565041</td>\n",
       "    </tr>\n",
       "    <tr>\n",
       "      <th>5096</th>\n",
       "      <td>CryptoCurrency</td>\n",
       "      <td></td>\n",
       "      <td>Crypto Price Prediction: Bitcoin ‘To Overtake’...</td>\n",
       "      <td>1626564859</td>\n",
       "    </tr>\n",
       "    <tr>\n",
       "      <th>5097</th>\n",
       "      <td>CryptoCurrency</td>\n",
       "      <td>We all know that technology is something that ...</td>\n",
       "      <td>What are some lesser known tokens that pique y...</td>\n",
       "      <td>1626564809</td>\n",
       "    </tr>\n",
       "    <tr>\n",
       "      <th>5098</th>\n",
       "      <td>CryptoCurrency</td>\n",
       "      <td>[removed]</td>\n",
       "      <td>A real question about pornographic based crypt...</td>\n",
       "      <td>1626564805</td>\n",
       "    </tr>\n",
       "    <tr>\n",
       "      <th>5099</th>\n",
       "      <td>CryptoCurrency</td>\n",
       "      <td>[removed]</td>\n",
       "      <td>Fellow UK miners, I sympathise with all of you...</td>\n",
       "      <td>1626564768</td>\n",
       "    </tr>\n",
       "  </tbody>\n",
       "</table>\n",
       "</div>"
      ],
      "text/plain": [
       "           subreddit                                           selftext  \\\n",
       "5095  CryptoCurrency  Today I just got almost exactly halfway to my ...   \n",
       "5096  CryptoCurrency                                                      \n",
       "5097  CryptoCurrency  We all know that technology is something that ...   \n",
       "5098  CryptoCurrency                                          [removed]   \n",
       "5099  CryptoCurrency                                          [removed]   \n",
       "\n",
       "                                                  title  created_utc  \n",
       "5095             Half way to my goal of X amount of BTC   1626565041  \n",
       "5096  Crypto Price Prediction: Bitcoin ‘To Overtake’...   1626564859  \n",
       "5097  What are some lesser known tokens that pique y...   1626564809  \n",
       "5098  A real question about pornographic based crypt...   1626564805  \n",
       "5099  Fellow UK miners, I sympathise with all of you...   1626564768  "
      ]
     },
     "execution_count": 19,
     "metadata": {},
     "output_type": "execute_result"
    }
   ],
   "source": [
    "data.tail()"
   ]
  },
  {
   "cell_type": "code",
   "execution_count": 20,
   "id": "3b7674e4",
   "metadata": {},
   "outputs": [
    {
     "data": {
      "text/plain": [
       "(5100, 4)"
      ]
     },
     "execution_count": 20,
     "metadata": {},
     "output_type": "execute_result"
    }
   ],
   "source": [
    "data.shape"
   ]
  },
  {
   "cell_type": "code",
   "execution_count": 22,
   "id": "33a00130",
   "metadata": {},
   "outputs": [],
   "source": [
    "#save train_dataframe to csv\n",
    "data.to_csv('../data/crypto.csv',index=False)"
   ]
  }
 ],
 "metadata": {
  "kernelspec": {
   "display_name": "Python 3",
   "language": "python",
   "name": "python3"
  },
  "language_info": {
   "codemirror_mode": {
    "name": "ipython",
    "version": 3
   },
   "file_extension": ".py",
   "mimetype": "text/x-python",
   "name": "python",
   "nbconvert_exporter": "python",
   "pygments_lexer": "ipython3",
   "version": "3.8.8"
  }
 },
 "nbformat": 4,
 "nbformat_minor": 5
}
