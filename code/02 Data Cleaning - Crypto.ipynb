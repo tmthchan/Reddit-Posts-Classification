{
 "cells": [
  {
   "cell_type": "markdown",
   "id": "853550f0",
   "metadata": {},
   "source": [
    "# 2. Data Cleaning - r/CryptoCurrency"
   ]
  },
  {
   "cell_type": "code",
   "execution_count": 1,
   "id": "510c4d56",
   "metadata": {},
   "outputs": [],
   "source": [
    "import pandas as pd"
   ]
  },
  {
   "cell_type": "code",
   "execution_count": 2,
   "id": "438213e0",
   "metadata": {},
   "outputs": [],
   "source": [
    "data = pd.read_csv(\"../data/crypto.csv\")"
   ]
  },
  {
   "cell_type": "code",
   "execution_count": 3,
   "id": "e8cdb549",
   "metadata": {},
   "outputs": [
    {
     "data": {
      "text/html": [
       "<div>\n",
       "<style scoped>\n",
       "    .dataframe tbody tr th:only-of-type {\n",
       "        vertical-align: middle;\n",
       "    }\n",
       "\n",
       "    .dataframe tbody tr th {\n",
       "        vertical-align: top;\n",
       "    }\n",
       "\n",
       "    .dataframe thead th {\n",
       "        text-align: right;\n",
       "    }\n",
       "</style>\n",
       "<table border=\"1\" class=\"dataframe\">\n",
       "  <thead>\n",
       "    <tr style=\"text-align: right;\">\n",
       "      <th></th>\n",
       "      <th>subreddit</th>\n",
       "      <th>selftext</th>\n",
       "      <th>title</th>\n",
       "      <th>created_utc</th>\n",
       "    </tr>\n",
       "  </thead>\n",
       "  <tbody>\n",
       "    <tr>\n",
       "      <th>0</th>\n",
       "      <td>CryptoCurrency</td>\n",
       "      <td>Hello everyone, yesterday I was thinking about...</td>\n",
       "      <td>Should I create a gymkhana with all my cryptoc...</td>\n",
       "      <td>1626850949</td>\n",
       "    </tr>\n",
       "    <tr>\n",
       "      <th>1</th>\n",
       "      <td>CryptoCurrency</td>\n",
       "      <td>So I don’t understand why countries can ban cr...</td>\n",
       "      <td>A country’s ban on crypto is only valid if you...</td>\n",
       "      <td>1626850702</td>\n",
       "    </tr>\n",
       "    <tr>\n",
       "      <th>2</th>\n",
       "      <td>CryptoCurrency</td>\n",
       "      <td>Listen, nothing you read on the internet is fi...</td>\n",
       "      <td>I was already convinced. Fibonacci golden rati...</td>\n",
       "      <td>1626850642</td>\n",
       "    </tr>\n",
       "    <tr>\n",
       "      <th>3</th>\n",
       "      <td>CryptoCurrency</td>\n",
       "      <td>NaN</td>\n",
       "      <td>*According to Research From Fidelity * - 71% o...</td>\n",
       "      <td>1626850580</td>\n",
       "    </tr>\n",
       "    <tr>\n",
       "      <th>4</th>\n",
       "      <td>CryptoCurrency</td>\n",
       "      <td>NaN</td>\n",
       "      <td>Illegal Crypto Miners in Ukraine Found Manipul...</td>\n",
       "      <td>1626850543</td>\n",
       "    </tr>\n",
       "  </tbody>\n",
       "</table>\n",
       "</div>"
      ],
      "text/plain": [
       "        subreddit                                           selftext  \\\n",
       "0  CryptoCurrency  Hello everyone, yesterday I was thinking about...   \n",
       "1  CryptoCurrency  So I don’t understand why countries can ban cr...   \n",
       "2  CryptoCurrency  Listen, nothing you read on the internet is fi...   \n",
       "3  CryptoCurrency                                                NaN   \n",
       "4  CryptoCurrency                                                NaN   \n",
       "\n",
       "                                               title  created_utc  \n",
       "0  Should I create a gymkhana with all my cryptoc...   1626850949  \n",
       "1  A country’s ban on crypto is only valid if you...   1626850702  \n",
       "2  I was already convinced. Fibonacci golden rati...   1626850642  \n",
       "3  *According to Research From Fidelity * - 71% o...   1626850580  \n",
       "4  Illegal Crypto Miners in Ukraine Found Manipul...   1626850543  "
      ]
     },
     "execution_count": 3,
     "metadata": {},
     "output_type": "execute_result"
    }
   ],
   "source": [
    "data.head()"
   ]
  },
  {
   "cell_type": "code",
   "execution_count": 4,
   "id": "8f486206",
   "metadata": {},
   "outputs": [
    {
     "data": {
      "text/html": [
       "<div>\n",
       "<style scoped>\n",
       "    .dataframe tbody tr th:only-of-type {\n",
       "        vertical-align: middle;\n",
       "    }\n",
       "\n",
       "    .dataframe tbody tr th {\n",
       "        vertical-align: top;\n",
       "    }\n",
       "\n",
       "    .dataframe thead th {\n",
       "        text-align: right;\n",
       "    }\n",
       "</style>\n",
       "<table border=\"1\" class=\"dataframe\">\n",
       "  <thead>\n",
       "    <tr style=\"text-align: right;\">\n",
       "      <th></th>\n",
       "      <th>subreddit</th>\n",
       "      <th>selftext</th>\n",
       "      <th>title</th>\n",
       "      <th>created_utc</th>\n",
       "    </tr>\n",
       "  </thead>\n",
       "  <tbody>\n",
       "    <tr>\n",
       "      <th>5095</th>\n",
       "      <td>CryptoCurrency</td>\n",
       "      <td>Today I just got almost exactly halfway to my ...</td>\n",
       "      <td>Half way to my goal of X amount of BTC</td>\n",
       "      <td>1626565041</td>\n",
       "    </tr>\n",
       "    <tr>\n",
       "      <th>5096</th>\n",
       "      <td>CryptoCurrency</td>\n",
       "      <td>NaN</td>\n",
       "      <td>Crypto Price Prediction: Bitcoin ‘To Overtake’...</td>\n",
       "      <td>1626564859</td>\n",
       "    </tr>\n",
       "    <tr>\n",
       "      <th>5097</th>\n",
       "      <td>CryptoCurrency</td>\n",
       "      <td>We all know that technology is something that ...</td>\n",
       "      <td>What are some lesser known tokens that pique y...</td>\n",
       "      <td>1626564809</td>\n",
       "    </tr>\n",
       "    <tr>\n",
       "      <th>5098</th>\n",
       "      <td>CryptoCurrency</td>\n",
       "      <td>[removed]</td>\n",
       "      <td>A real question about pornographic based crypt...</td>\n",
       "      <td>1626564805</td>\n",
       "    </tr>\n",
       "    <tr>\n",
       "      <th>5099</th>\n",
       "      <td>CryptoCurrency</td>\n",
       "      <td>[removed]</td>\n",
       "      <td>Fellow UK miners, I sympathise with all of you...</td>\n",
       "      <td>1626564768</td>\n",
       "    </tr>\n",
       "  </tbody>\n",
       "</table>\n",
       "</div>"
      ],
      "text/plain": [
       "           subreddit                                           selftext  \\\n",
       "5095  CryptoCurrency  Today I just got almost exactly halfway to my ...   \n",
       "5096  CryptoCurrency                                                NaN   \n",
       "5097  CryptoCurrency  We all know that technology is something that ...   \n",
       "5098  CryptoCurrency                                          [removed]   \n",
       "5099  CryptoCurrency                                          [removed]   \n",
       "\n",
       "                                                  title  created_utc  \n",
       "5095             Half way to my goal of X amount of BTC   1626565041  \n",
       "5096  Crypto Price Prediction: Bitcoin ‘To Overtake’...   1626564859  \n",
       "5097  What are some lesser known tokens that pique y...   1626564809  \n",
       "5098  A real question about pornographic based crypt...   1626564805  \n",
       "5099  Fellow UK miners, I sympathise with all of you...   1626564768  "
      ]
     },
     "execution_count": 4,
     "metadata": {},
     "output_type": "execute_result"
    }
   ],
   "source": [
    "data.tail()"
   ]
  },
  {
   "cell_type": "code",
   "execution_count": 5,
   "id": "0390aa78",
   "metadata": {},
   "outputs": [
    {
     "data": {
      "text/plain": [
       "(5100, 4)"
      ]
     },
     "execution_count": 5,
     "metadata": {},
     "output_type": "execute_result"
    }
   ],
   "source": [
    "data.shape"
   ]
  },
  {
   "cell_type": "code",
   "execution_count": 6,
   "id": "56f9555f",
   "metadata": {},
   "outputs": [
    {
     "data": {
      "text/plain": [
       "subreddit         0\n",
       "selftext       1875\n",
       "title             0\n",
       "created_utc       0\n",
       "dtype: int64"
      ]
     },
     "execution_count": 6,
     "metadata": {},
     "output_type": "execute_result"
    }
   ],
   "source": [
    "data.isnull().sum()"
   ]
  },
  {
   "cell_type": "code",
   "execution_count": 7,
   "id": "8f37530d",
   "metadata": {},
   "outputs": [
    {
     "data": {
      "text/html": [
       "<div>\n",
       "<style scoped>\n",
       "    .dataframe tbody tr th:only-of-type {\n",
       "        vertical-align: middle;\n",
       "    }\n",
       "\n",
       "    .dataframe tbody tr th {\n",
       "        vertical-align: top;\n",
       "    }\n",
       "\n",
       "    .dataframe thead th {\n",
       "        text-align: right;\n",
       "    }\n",
       "</style>\n",
       "<table border=\"1\" class=\"dataframe\">\n",
       "  <thead>\n",
       "    <tr style=\"text-align: right;\">\n",
       "      <th></th>\n",
       "      <th>subreddit</th>\n",
       "      <th>selftext</th>\n",
       "      <th>title</th>\n",
       "      <th>created_utc</th>\n",
       "    </tr>\n",
       "  </thead>\n",
       "  <tbody>\n",
       "    <tr>\n",
       "      <th>0</th>\n",
       "      <td>CryptoCurrency</td>\n",
       "      <td>Hello everyone, yesterday I was thinking about...</td>\n",
       "      <td>Should I create a gymkhana with all my cryptoc...</td>\n",
       "      <td>1626850949</td>\n",
       "    </tr>\n",
       "    <tr>\n",
       "      <th>1</th>\n",
       "      <td>CryptoCurrency</td>\n",
       "      <td>So I don’t understand why countries can ban cr...</td>\n",
       "      <td>A country’s ban on crypto is only valid if you...</td>\n",
       "      <td>1626850702</td>\n",
       "    </tr>\n",
       "    <tr>\n",
       "      <th>2</th>\n",
       "      <td>CryptoCurrency</td>\n",
       "      <td>Listen, nothing you read on the internet is fi...</td>\n",
       "      <td>I was already convinced. Fibonacci golden rati...</td>\n",
       "      <td>1626850642</td>\n",
       "    </tr>\n",
       "    <tr>\n",
       "      <th>3</th>\n",
       "      <td>CryptoCurrency</td>\n",
       "      <td>NaN</td>\n",
       "      <td>*According to Research From Fidelity * - 71% o...</td>\n",
       "      <td>1626850580</td>\n",
       "    </tr>\n",
       "    <tr>\n",
       "      <th>4</th>\n",
       "      <td>CryptoCurrency</td>\n",
       "      <td>NaN</td>\n",
       "      <td>Illegal Crypto Miners in Ukraine Found Manipul...</td>\n",
       "      <td>1626850543</td>\n",
       "    </tr>\n",
       "    <tr>\n",
       "      <th>...</th>\n",
       "      <td>...</td>\n",
       "      <td>...</td>\n",
       "      <td>...</td>\n",
       "      <td>...</td>\n",
       "    </tr>\n",
       "    <tr>\n",
       "      <th>5095</th>\n",
       "      <td>CryptoCurrency</td>\n",
       "      <td>Today I just got almost exactly halfway to my ...</td>\n",
       "      <td>Half way to my goal of X amount of BTC</td>\n",
       "      <td>1626565041</td>\n",
       "    </tr>\n",
       "    <tr>\n",
       "      <th>5096</th>\n",
       "      <td>CryptoCurrency</td>\n",
       "      <td>NaN</td>\n",
       "      <td>Crypto Price Prediction: Bitcoin ‘To Overtake’...</td>\n",
       "      <td>1626564859</td>\n",
       "    </tr>\n",
       "    <tr>\n",
       "      <th>5097</th>\n",
       "      <td>CryptoCurrency</td>\n",
       "      <td>We all know that technology is something that ...</td>\n",
       "      <td>What are some lesser known tokens that pique y...</td>\n",
       "      <td>1626564809</td>\n",
       "    </tr>\n",
       "    <tr>\n",
       "      <th>5098</th>\n",
       "      <td>CryptoCurrency</td>\n",
       "      <td>[removed]</td>\n",
       "      <td>A real question about pornographic based crypt...</td>\n",
       "      <td>1626564805</td>\n",
       "    </tr>\n",
       "    <tr>\n",
       "      <th>5099</th>\n",
       "      <td>CryptoCurrency</td>\n",
       "      <td>[removed]</td>\n",
       "      <td>Fellow UK miners, I sympathise with all of you...</td>\n",
       "      <td>1626564768</td>\n",
       "    </tr>\n",
       "  </tbody>\n",
       "</table>\n",
       "<p>5100 rows × 4 columns</p>\n",
       "</div>"
      ],
      "text/plain": [
       "           subreddit                                           selftext  \\\n",
       "0     CryptoCurrency  Hello everyone, yesterday I was thinking about...   \n",
       "1     CryptoCurrency  So I don’t understand why countries can ban cr...   \n",
       "2     CryptoCurrency  Listen, nothing you read on the internet is fi...   \n",
       "3     CryptoCurrency                                                NaN   \n",
       "4     CryptoCurrency                                                NaN   \n",
       "...              ...                                                ...   \n",
       "5095  CryptoCurrency  Today I just got almost exactly halfway to my ...   \n",
       "5096  CryptoCurrency                                                NaN   \n",
       "5097  CryptoCurrency  We all know that technology is something that ...   \n",
       "5098  CryptoCurrency                                          [removed]   \n",
       "5099  CryptoCurrency                                          [removed]   \n",
       "\n",
       "                                                  title  created_utc  \n",
       "0     Should I create a gymkhana with all my cryptoc...   1626850949  \n",
       "1     A country’s ban on crypto is only valid if you...   1626850702  \n",
       "2     I was already convinced. Fibonacci golden rati...   1626850642  \n",
       "3     *According to Research From Fidelity * - 71% o...   1626850580  \n",
       "4     Illegal Crypto Miners in Ukraine Found Manipul...   1626850543  \n",
       "...                                                 ...          ...  \n",
       "5095             Half way to my goal of X amount of BTC   1626565041  \n",
       "5096  Crypto Price Prediction: Bitcoin ‘To Overtake’...   1626564859  \n",
       "5097  What are some lesser known tokens that pique y...   1626564809  \n",
       "5098  A real question about pornographic based crypt...   1626564805  \n",
       "5099  Fellow UK miners, I sympathise with all of you...   1626564768  \n",
       "\n",
       "[5100 rows x 4 columns]"
      ]
     },
     "execution_count": 7,
     "metadata": {},
     "output_type": "execute_result"
    }
   ],
   "source": [
    "data"
   ]
  },
  {
   "cell_type": "code",
   "execution_count": 8,
   "id": "c7d7daf6",
   "metadata": {},
   "outputs": [],
   "source": [
    "# drop rows with [removed], NaN and blanks \n",
    "\n",
    "#data = data.drop(data[(data[\"selftext\"]==\"[removed]\")].index)\n",
    "data = data[(data[\"selftext\"]!=\"[removed]\") & (data[\"selftext\"].isna() == False) & (data[\"selftext\"] != \"\")]\n",
    "\n",
    "data = data.loc[data[\"selftext\"].str.contains(r'\\[removed\\]') != True]"
   ]
  },
  {
   "cell_type": "code",
   "execution_count": 9,
   "id": "12192062",
   "metadata": {},
   "outputs": [
    {
     "data": {
      "text/plain": [
       "(2044, 4)"
      ]
     },
     "execution_count": 9,
     "metadata": {},
     "output_type": "execute_result"
    }
   ],
   "source": [
    "data.shape"
   ]
  },
  {
   "cell_type": "code",
   "execution_count": 10,
   "id": "7428efd7",
   "metadata": {},
   "outputs": [],
   "source": [
    "#data = data.drop(data[(data[\"selftext\"].isna() == True)].index)"
   ]
  },
  {
   "cell_type": "code",
   "execution_count": 11,
   "id": "dfc1b925",
   "metadata": {},
   "outputs": [
    {
     "data": {
      "text/plain": [
       "(2044, 4)"
      ]
     },
     "execution_count": 11,
     "metadata": {},
     "output_type": "execute_result"
    }
   ],
   "source": [
    "data.shape"
   ]
  },
  {
   "cell_type": "code",
   "execution_count": 12,
   "id": "b2877479",
   "metadata": {},
   "outputs": [
    {
     "data": {
      "text/plain": [
       "subreddit      0\n",
       "selftext       0\n",
       "title          0\n",
       "created_utc    0\n",
       "dtype: int64"
      ]
     },
     "execution_count": 12,
     "metadata": {},
     "output_type": "execute_result"
    }
   ],
   "source": [
    "data.isnull().sum()"
   ]
  },
  {
   "cell_type": "code",
   "execution_count": 13,
   "id": "252afa0b",
   "metadata": {},
   "outputs": [
    {
     "data": {
      "text/html": [
       "<div>\n",
       "<style scoped>\n",
       "    .dataframe tbody tr th:only-of-type {\n",
       "        vertical-align: middle;\n",
       "    }\n",
       "\n",
       "    .dataframe tbody tr th {\n",
       "        vertical-align: top;\n",
       "    }\n",
       "\n",
       "    .dataframe thead th {\n",
       "        text-align: right;\n",
       "    }\n",
       "</style>\n",
       "<table border=\"1\" class=\"dataframe\">\n",
       "  <thead>\n",
       "    <tr style=\"text-align: right;\">\n",
       "      <th></th>\n",
       "      <th>subreddit</th>\n",
       "      <th>selftext</th>\n",
       "      <th>title</th>\n",
       "      <th>created_utc</th>\n",
       "    </tr>\n",
       "  </thead>\n",
       "  <tbody>\n",
       "    <tr>\n",
       "      <th>5091</th>\n",
       "      <td>CryptoCurrency</td>\n",
       "      <td>Looking at the price the last couple of weeks,...</td>\n",
       "      <td>When did Bitcoin become a stable coin?</td>\n",
       "      <td>1626565290</td>\n",
       "    </tr>\n",
       "    <tr>\n",
       "      <th>5093</th>\n",
       "      <td>CryptoCurrency</td>\n",
       "      <td>I keep seeing all these posts about \"I finally...</td>\n",
       "      <td>I finally have 50k Dogecoin! Nobody fuckin car...</td>\n",
       "      <td>1626565102</td>\n",
       "    </tr>\n",
       "    <tr>\n",
       "      <th>5094</th>\n",
       "      <td>CryptoCurrency</td>\n",
       "      <td>So I am going to put around 11K in Crypto. I a...</td>\n",
       "      <td>Planning to put $11,000 dollars into Crypto. W...</td>\n",
       "      <td>1626565065</td>\n",
       "    </tr>\n",
       "    <tr>\n",
       "      <th>5095</th>\n",
       "      <td>CryptoCurrency</td>\n",
       "      <td>Today I just got almost exactly halfway to my ...</td>\n",
       "      <td>Half way to my goal of X amount of BTC</td>\n",
       "      <td>1626565041</td>\n",
       "    </tr>\n",
       "    <tr>\n",
       "      <th>5097</th>\n",
       "      <td>CryptoCurrency</td>\n",
       "      <td>We all know that technology is something that ...</td>\n",
       "      <td>What are some lesser known tokens that pique y...</td>\n",
       "      <td>1626564809</td>\n",
       "    </tr>\n",
       "  </tbody>\n",
       "</table>\n",
       "</div>"
      ],
      "text/plain": [
       "           subreddit                                           selftext  \\\n",
       "5091  CryptoCurrency  Looking at the price the last couple of weeks,...   \n",
       "5093  CryptoCurrency  I keep seeing all these posts about \"I finally...   \n",
       "5094  CryptoCurrency  So I am going to put around 11K in Crypto. I a...   \n",
       "5095  CryptoCurrency  Today I just got almost exactly halfway to my ...   \n",
       "5097  CryptoCurrency  We all know that technology is something that ...   \n",
       "\n",
       "                                                  title  created_utc  \n",
       "5091             When did Bitcoin become a stable coin?   1626565290  \n",
       "5093  I finally have 50k Dogecoin! Nobody fuckin car...   1626565102  \n",
       "5094  Planning to put $11,000 dollars into Crypto. W...   1626565065  \n",
       "5095             Half way to my goal of X amount of BTC   1626565041  \n",
       "5097  What are some lesser known tokens that pique y...   1626564809  "
      ]
     },
     "execution_count": 13,
     "metadata": {},
     "output_type": "execute_result"
    }
   ],
   "source": [
    "data.tail()"
   ]
  },
  {
   "cell_type": "code",
   "execution_count": 14,
   "id": "d336a7bb",
   "metadata": {},
   "outputs": [
    {
     "data": {
      "text/plain": [
       "(2044, 4)"
      ]
     },
     "execution_count": 14,
     "metadata": {},
     "output_type": "execute_result"
    }
   ],
   "source": [
    "data.shape"
   ]
  },
  {
   "cell_type": "code",
   "execution_count": 15,
   "id": "0b957d1a",
   "metadata": {},
   "outputs": [],
   "source": [
    "# drop duplicates in \"selftext\"\n",
    "data.drop_duplicates(subset=[\"selftext\"], keep='last', inplace=True)"
   ]
  },
  {
   "cell_type": "code",
   "execution_count": 16,
   "id": "9b5d9f1a",
   "metadata": {},
   "outputs": [
    {
     "data": {
      "text/plain": [
       "(2006, 4)"
      ]
     },
     "execution_count": 16,
     "metadata": {},
     "output_type": "execute_result"
    }
   ],
   "source": [
    "data.shape"
   ]
  },
  {
   "cell_type": "code",
   "execution_count": 17,
   "id": "3f9c4efa",
   "metadata": {},
   "outputs": [],
   "source": [
    "# keep first 1700 rows in dataset\n",
    "data = data[0:1700]"
   ]
  },
  {
   "cell_type": "code",
   "execution_count": 18,
   "id": "590031f5",
   "metadata": {},
   "outputs": [
    {
     "data": {
      "text/plain": [
       "(1700, 4)"
      ]
     },
     "execution_count": 18,
     "metadata": {},
     "output_type": "execute_result"
    }
   ],
   "source": [
    "data.shape"
   ]
  },
  {
   "cell_type": "code",
   "execution_count": 20,
   "id": "9f05f51a",
   "metadata": {},
   "outputs": [],
   "source": [
    "#save to csv\n",
    "data.to_csv('../data/crypto_clean.csv',index=False)"
   ]
  },
  {
   "cell_type": "code",
   "execution_count": null,
   "id": "98623421",
   "metadata": {},
   "outputs": [],
   "source": []
  }
 ],
 "metadata": {
  "kernelspec": {
   "display_name": "Python 3",
   "language": "python",
   "name": "python3"
  },
  "language_info": {
   "codemirror_mode": {
    "name": "ipython",
    "version": 3
   },
   "file_extension": ".py",
   "mimetype": "text/x-python",
   "name": "python",
   "nbconvert_exporter": "python",
   "pygments_lexer": "ipython3",
   "version": "3.8.8"
  }
 },
 "nbformat": 4,
 "nbformat_minor": 5
}
