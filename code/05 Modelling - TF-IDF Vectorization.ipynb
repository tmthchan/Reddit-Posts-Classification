{
 "cells": [
  {
   "cell_type": "markdown",
   "id": "4936bf7a",
   "metadata": {},
   "source": [
    "# 5. Modelling - TF-IDF Vectorization"
   ]
  },
  {
   "cell_type": "code",
   "execution_count": 1,
   "id": "3d526e1d",
   "metadata": {},
   "outputs": [],
   "source": [
    "# import packages\n",
    "import numpy as np\n",
    "import pandas as pd\n",
    "import sklearn\n",
    "import seaborn as sns\n",
    "import matplotlib.pyplot as plt\n",
    "%matplotlib inline\n",
    "\n",
    "from sklearn.model_selection import train_test_split, cross_val_score\n",
    "from sklearn.model_selection import GridSearchCV\n",
    "from sklearn import metrics\n",
    "from sklearn.metrics import confusion_matrix\n",
    "from sklearn.metrics import classification_report\n",
    "from sklearn.metrics import accuracy_score, precision_score, recall_score\n",
    "\n",
    "from sklearn.naive_bayes import BernoulliNB\n",
    "from sklearn.naive_bayes import GaussianNB\n",
    "from sklearn.naive_bayes import MultinomialNB\n",
    "\n",
    "from sklearn.linear_model import LogisticRegression"
   ]
  },
  {
   "cell_type": "code",
   "execution_count": 2,
   "id": "a7bc95df",
   "metadata": {},
   "outputs": [],
   "source": [
    "# load data files\n",
    "X_counts_df = pd.read_csv('../data/tfidf_df.csv')"
   ]
  },
  {
   "cell_type": "code",
   "execution_count": 3,
   "id": "630d4c58",
   "metadata": {},
   "outputs": [],
   "source": [
    "data = pd.read_csv(\"../data/processed_data.csv\")"
   ]
  },
  {
   "cell_type": "code",
   "execution_count": 4,
   "id": "57566601",
   "metadata": {
    "scrolled": true
   },
   "outputs": [
    {
     "data": {
      "text/html": [
       "<div>\n",
       "<style scoped>\n",
       "    .dataframe tbody tr th:only-of-type {\n",
       "        vertical-align: middle;\n",
       "    }\n",
       "\n",
       "    .dataframe tbody tr th {\n",
       "        vertical-align: top;\n",
       "    }\n",
       "\n",
       "    .dataframe thead th {\n",
       "        text-align: right;\n",
       "    }\n",
       "</style>\n",
       "<table border=\"1\" class=\"dataframe\">\n",
       "  <thead>\n",
       "    <tr style=\"text-align: right;\">\n",
       "      <th></th>\n",
       "      <th>Unnamed: 0</th>\n",
       "      <th>0</th>\n",
       "      <th>00</th>\n",
       "      <th>000</th>\n",
       "      <th>00000</th>\n",
       "      <th>00000000000000000001664</th>\n",
       "      <th>00000000000001</th>\n",
       "      <th>000000001</th>\n",
       "      <th>000000002</th>\n",
       "      <th>000000026</th>\n",
       "      <th>...</th>\n",
       "      <th>zzillow</th>\n",
       "      <th>¼</th>\n",
       "      <th>ängöl</th>\n",
       "      <th>ѕcнool</th>\n",
       "      <th>علي</th>\n",
       "      <th>مصطفى</th>\n",
       "      <th>ندا</th>\n",
       "      <th>يوسف</th>\n",
       "      <th>⅓</th>\n",
       "      <th>ツ</th>\n",
       "    </tr>\n",
       "  </thead>\n",
       "  <tbody>\n",
       "    <tr>\n",
       "      <th>0</th>\n",
       "      <td>0.0</td>\n",
       "      <td>0.0</td>\n",
       "      <td>0.0</td>\n",
       "      <td>0.0</td>\n",
       "      <td>0.0</td>\n",
       "      <td>0.0</td>\n",
       "      <td>0.0</td>\n",
       "      <td>0.0</td>\n",
       "      <td>0.0</td>\n",
       "      <td>0.0</td>\n",
       "      <td>...</td>\n",
       "      <td>0.0</td>\n",
       "      <td>0.0</td>\n",
       "      <td>0.0</td>\n",
       "      <td>0.0</td>\n",
       "      <td>0.0</td>\n",
       "      <td>0.0</td>\n",
       "      <td>0.0</td>\n",
       "      <td>0.0</td>\n",
       "      <td>0.0</td>\n",
       "      <td>0.0</td>\n",
       "    </tr>\n",
       "    <tr>\n",
       "      <th>1</th>\n",
       "      <td>0.0</td>\n",
       "      <td>0.0</td>\n",
       "      <td>0.0</td>\n",
       "      <td>0.0</td>\n",
       "      <td>0.0</td>\n",
       "      <td>0.0</td>\n",
       "      <td>0.0</td>\n",
       "      <td>0.0</td>\n",
       "      <td>0.0</td>\n",
       "      <td>0.0</td>\n",
       "      <td>...</td>\n",
       "      <td>0.0</td>\n",
       "      <td>0.0</td>\n",
       "      <td>0.0</td>\n",
       "      <td>0.0</td>\n",
       "      <td>0.0</td>\n",
       "      <td>0.0</td>\n",
       "      <td>0.0</td>\n",
       "      <td>0.0</td>\n",
       "      <td>0.0</td>\n",
       "      <td>0.0</td>\n",
       "    </tr>\n",
       "    <tr>\n",
       "      <th>2</th>\n",
       "      <td>0.0</td>\n",
       "      <td>0.0</td>\n",
       "      <td>0.0</td>\n",
       "      <td>0.0</td>\n",
       "      <td>0.0</td>\n",
       "      <td>0.0</td>\n",
       "      <td>0.0</td>\n",
       "      <td>0.0</td>\n",
       "      <td>0.0</td>\n",
       "      <td>0.0</td>\n",
       "      <td>...</td>\n",
       "      <td>0.0</td>\n",
       "      <td>0.0</td>\n",
       "      <td>0.0</td>\n",
       "      <td>0.0</td>\n",
       "      <td>0.0</td>\n",
       "      <td>0.0</td>\n",
       "      <td>0.0</td>\n",
       "      <td>0.0</td>\n",
       "      <td>0.0</td>\n",
       "      <td>0.0</td>\n",
       "    </tr>\n",
       "    <tr>\n",
       "      <th>3</th>\n",
       "      <td>0.0</td>\n",
       "      <td>0.0</td>\n",
       "      <td>0.0</td>\n",
       "      <td>0.0</td>\n",
       "      <td>0.0</td>\n",
       "      <td>0.0</td>\n",
       "      <td>0.0</td>\n",
       "      <td>0.0</td>\n",
       "      <td>0.0</td>\n",
       "      <td>0.0</td>\n",
       "      <td>...</td>\n",
       "      <td>0.0</td>\n",
       "      <td>0.0</td>\n",
       "      <td>0.0</td>\n",
       "      <td>0.0</td>\n",
       "      <td>0.0</td>\n",
       "      <td>0.0</td>\n",
       "      <td>0.0</td>\n",
       "      <td>0.0</td>\n",
       "      <td>0.0</td>\n",
       "      <td>0.0</td>\n",
       "    </tr>\n",
       "    <tr>\n",
       "      <th>4</th>\n",
       "      <td>0.0</td>\n",
       "      <td>0.0</td>\n",
       "      <td>0.0</td>\n",
       "      <td>0.0</td>\n",
       "      <td>0.0</td>\n",
       "      <td>0.0</td>\n",
       "      <td>0.0</td>\n",
       "      <td>0.0</td>\n",
       "      <td>0.0</td>\n",
       "      <td>0.0</td>\n",
       "      <td>...</td>\n",
       "      <td>0.0</td>\n",
       "      <td>0.0</td>\n",
       "      <td>0.0</td>\n",
       "      <td>0.0</td>\n",
       "      <td>0.0</td>\n",
       "      <td>0.0</td>\n",
       "      <td>0.0</td>\n",
       "      <td>0.0</td>\n",
       "      <td>0.0</td>\n",
       "      <td>0.0</td>\n",
       "    </tr>\n",
       "  </tbody>\n",
       "</table>\n",
       "<p>5 rows × 25025 columns</p>\n",
       "</div>"
      ],
      "text/plain": [
       "   Unnamed: 0    0   00  000  00000  00000000000000000001664  00000000000001  \\\n",
       "0         0.0  0.0  0.0  0.0    0.0                      0.0             0.0   \n",
       "1         0.0  0.0  0.0  0.0    0.0                      0.0             0.0   \n",
       "2         0.0  0.0  0.0  0.0    0.0                      0.0             0.0   \n",
       "3         0.0  0.0  0.0  0.0    0.0                      0.0             0.0   \n",
       "4         0.0  0.0  0.0  0.0    0.0                      0.0             0.0   \n",
       "\n",
       "   000000001  000000002  000000026  ...  zzillow    ¼  ängöl  ѕcнool  علي  \\\n",
       "0        0.0        0.0        0.0  ...      0.0  0.0    0.0     0.0  0.0   \n",
       "1        0.0        0.0        0.0  ...      0.0  0.0    0.0     0.0  0.0   \n",
       "2        0.0        0.0        0.0  ...      0.0  0.0    0.0     0.0  0.0   \n",
       "3        0.0        0.0        0.0  ...      0.0  0.0    0.0     0.0  0.0   \n",
       "4        0.0        0.0        0.0  ...      0.0  0.0    0.0     0.0  0.0   \n",
       "\n",
       "   مصطفى  ندا  يوسف    ⅓    ツ  \n",
       "0    0.0  0.0   0.0  0.0  0.0  \n",
       "1    0.0  0.0   0.0  0.0  0.0  \n",
       "2    0.0  0.0   0.0  0.0  0.0  \n",
       "3    0.0  0.0   0.0  0.0  0.0  \n",
       "4    0.0  0.0   0.0  0.0  0.0  \n",
       "\n",
       "[5 rows x 25025 columns]"
      ]
     },
     "execution_count": 4,
     "metadata": {},
     "output_type": "execute_result"
    }
   ],
   "source": [
    "X_counts_df.head()"
   ]
  },
  {
   "cell_type": "code",
   "execution_count": 5,
   "id": "342a8eca",
   "metadata": {},
   "outputs": [
    {
     "data": {
      "text/html": [
       "<div>\n",
       "<style scoped>\n",
       "    .dataframe tbody tr th:only-of-type {\n",
       "        vertical-align: middle;\n",
       "    }\n",
       "\n",
       "    .dataframe tbody tr th {\n",
       "        vertical-align: top;\n",
       "    }\n",
       "\n",
       "    .dataframe thead th {\n",
       "        text-align: right;\n",
       "    }\n",
       "</style>\n",
       "<table border=\"1\" class=\"dataframe\">\n",
       "  <thead>\n",
       "    <tr style=\"text-align: right;\">\n",
       "      <th></th>\n",
       "      <th>subreddit</th>\n",
       "      <th>title+selftext</th>\n",
       "    </tr>\n",
       "  </thead>\n",
       "  <tbody>\n",
       "    <tr>\n",
       "      <th>0</th>\n",
       "      <td>stocks</td>\n",
       "      <td>Advise on Long Term Stock? I am earning very l...</td>\n",
       "    </tr>\n",
       "    <tr>\n",
       "      <th>1</th>\n",
       "      <td>stocks</td>\n",
       "      <td>Dad told me to sell on Monday when the market ...</td>\n",
       "    </tr>\n",
       "    <tr>\n",
       "      <th>2</th>\n",
       "      <td>stocks</td>\n",
       "      <td>Merger/accusation question about a game co. An...</td>\n",
       "    </tr>\n",
       "    <tr>\n",
       "      <th>3</th>\n",
       "      <td>stocks</td>\n",
       "      <td>Best Software to Track Trades and Create Repor...</td>\n",
       "    </tr>\n",
       "    <tr>\n",
       "      <th>4</th>\n",
       "      <td>stocks</td>\n",
       "      <td>After Driving My Friends Tesla, Here Are My Th...</td>\n",
       "    </tr>\n",
       "  </tbody>\n",
       "</table>\n",
       "</div>"
      ],
      "text/plain": [
       "  subreddit                                     title+selftext\n",
       "0    stocks  Advise on Long Term Stock? I am earning very l...\n",
       "1    stocks  Dad told me to sell on Monday when the market ...\n",
       "2    stocks  Merger/accusation question about a game co. An...\n",
       "3    stocks  Best Software to Track Trades and Create Repor...\n",
       "4    stocks  After Driving My Friends Tesla, Here Are My Th..."
      ]
     },
     "execution_count": 5,
     "metadata": {},
     "output_type": "execute_result"
    }
   ],
   "source": [
    "data.head()"
   ]
  },
  {
   "cell_type": "code",
   "execution_count": 6,
   "id": "920656bf",
   "metadata": {},
   "outputs": [
    {
     "data": {
      "text/html": [
       "<div>\n",
       "<style scoped>\n",
       "    .dataframe tbody tr th:only-of-type {\n",
       "        vertical-align: middle;\n",
       "    }\n",
       "\n",
       "    .dataframe tbody tr th {\n",
       "        vertical-align: top;\n",
       "    }\n",
       "\n",
       "    .dataframe thead th {\n",
       "        text-align: right;\n",
       "    }\n",
       "</style>\n",
       "<table border=\"1\" class=\"dataframe\">\n",
       "  <thead>\n",
       "    <tr style=\"text-align: right;\">\n",
       "      <th></th>\n",
       "      <th>subreddit</th>\n",
       "      <th>title+selftext</th>\n",
       "    </tr>\n",
       "  </thead>\n",
       "  <tbody>\n",
       "    <tr>\n",
       "      <th>3395</th>\n",
       "      <td>CryptoCurrency</td>\n",
       "      <td>“Bull Markets Can Make You Money, Bear Markets...</td>\n",
       "    </tr>\n",
       "    <tr>\n",
       "      <th>3396</th>\n",
       "      <td>CryptoCurrency</td>\n",
       "      <td>What made you get into crypto? Let me get star...</td>\n",
       "    </tr>\n",
       "    <tr>\n",
       "      <th>3397</th>\n",
       "      <td>CryptoCurrency</td>\n",
       "      <td>How to introduce crypto to the people who have...</td>\n",
       "    </tr>\n",
       "    <tr>\n",
       "      <th>3398</th>\n",
       "      <td>CryptoCurrency</td>\n",
       "      <td>Mining crypto I'm curious as to how mining and...</td>\n",
       "    </tr>\n",
       "    <tr>\n",
       "      <th>3399</th>\n",
       "      <td>CryptoCurrency</td>\n",
       "      <td>Buying Crypto with Reward Points or Gift Cards...</td>\n",
       "    </tr>\n",
       "  </tbody>\n",
       "</table>\n",
       "</div>"
      ],
      "text/plain": [
       "           subreddit                                     title+selftext\n",
       "3395  CryptoCurrency  “Bull Markets Can Make You Money, Bear Markets...\n",
       "3396  CryptoCurrency  What made you get into crypto? Let me get star...\n",
       "3397  CryptoCurrency  How to introduce crypto to the people who have...\n",
       "3398  CryptoCurrency  Mining crypto I'm curious as to how mining and...\n",
       "3399  CryptoCurrency  Buying Crypto with Reward Points or Gift Cards..."
      ]
     },
     "execution_count": 6,
     "metadata": {},
     "output_type": "execute_result"
    }
   ],
   "source": [
    "data.tail()"
   ]
  },
  {
   "cell_type": "code",
   "execution_count": 7,
   "id": "e8051004",
   "metadata": {},
   "outputs": [],
   "source": [
    "# convert posts in 'stocks' to 1 and 'CryptoCurrency' to 0.\n",
    "di = {'stocks':1, 'CryptoCurrency':0}\n",
    "data['subreddit'] = data['subreddit'].map(di)   "
   ]
  },
  {
   "cell_type": "code",
   "execution_count": 8,
   "id": "64decd12",
   "metadata": {},
   "outputs": [
    {
     "data": {
      "text/plain": [
       "(3400, 2)"
      ]
     },
     "execution_count": 8,
     "metadata": {},
     "output_type": "execute_result"
    }
   ],
   "source": [
    "data.shape"
   ]
  },
  {
   "cell_type": "code",
   "execution_count": 9,
   "id": "1f192ec5",
   "metadata": {},
   "outputs": [],
   "source": [
    "# assign X and y dataset\n",
    "X = X_counts_df\n",
    "y = data['subreddit']"
   ]
  },
  {
   "cell_type": "code",
   "execution_count": 10,
   "id": "887f166f",
   "metadata": {},
   "outputs": [
    {
     "data": {
      "text/plain": [
       "(3400,)"
      ]
     },
     "execution_count": 10,
     "metadata": {},
     "output_type": "execute_result"
    }
   ],
   "source": [
    "y.shape"
   ]
  },
  {
   "cell_type": "code",
   "execution_count": 11,
   "id": "4d8442ac",
   "metadata": {},
   "outputs": [
    {
     "data": {
      "text/plain": [
       "0    1\n",
       "1    1\n",
       "2    1\n",
       "3    1\n",
       "4    1\n",
       "Name: subreddit, dtype: int64"
      ]
     },
     "execution_count": 11,
     "metadata": {},
     "output_type": "execute_result"
    }
   ],
   "source": [
    "y.head()"
   ]
  },
  {
   "cell_type": "code",
   "execution_count": 12,
   "id": "ead75746",
   "metadata": {},
   "outputs": [
    {
     "data": {
      "text/plain": [
       "3395    0\n",
       "3396    0\n",
       "3397    0\n",
       "3398    0\n",
       "3399    0\n",
       "Name: subreddit, dtype: int64"
      ]
     },
     "execution_count": 12,
     "metadata": {},
     "output_type": "execute_result"
    }
   ],
   "source": [
    "y.tail()"
   ]
  },
  {
   "cell_type": "markdown",
   "id": "c877593d",
   "metadata": {},
   "source": [
    "## Standardize the Data"
   ]
  },
  {
   "cell_type": "markdown",
   "id": "df4f8212",
   "metadata": {},
   "source": [
    "Standard scaling is not performed for the dataset as the sparse matrix only contains binary values."
   ]
  },
  {
   "cell_type": "markdown",
   "id": "6519eeaf",
   "metadata": {},
   "source": [
    "## Train/test split"
   ]
  },
  {
   "cell_type": "code",
   "execution_count": 13,
   "id": "ba281ed4",
   "metadata": {},
   "outputs": [],
   "source": [
    "# train/test split the dataset with 70/30 split and stratify=y\n",
    "X_train, X_test, y_train, y_test = train_test_split(X, y, test_size=.3, stratify=y, random_state=42)"
   ]
  },
  {
   "cell_type": "markdown",
   "id": "cc009bb7",
   "metadata": {},
   "source": [
    "## Naive Bayes Modelling"
   ]
  },
  {
   "cell_type": "markdown",
   "id": "b19c0936",
   "metadata": {},
   "source": [
    "### Using Bernoulli Naive Bayes to predict subreddit classification"
   ]
  },
  {
   "cell_type": "code",
   "execution_count": 14,
   "id": "9ff262e1",
   "metadata": {},
   "outputs": [
    {
     "name": "stdout",
     "output_type": "stream",
     "text": [
      "BernoulliNB(binarize=True)\n",
      "0.5\n",
      "0.5\n",
      "0.5\n",
      "0.5\n"
     ]
    }
   ],
   "source": [
    "# fit data to Bernoulli Naive Bayes Model\n",
    "BernNB = BernoulliNB(binarize=True)\n",
    "BernNB.fit(X_train, y_train)\n",
    "print(BernNB)\n",
    "\n",
    "# predict subreddit classifcation\n",
    "y_pred = BernNB.predict(X_test)\n",
    "\n",
    "# Cross-Validation\n",
    "print(cross_val_score(BernNB, X_train, y_train, cv=5).mean())\n",
    "\n",
    "# Accuracy score for train dataset\n",
    "print(BernNB.score(X_train, y_train))\n",
    "\n",
    "# Accuracy score for test dataset\n",
    "print(BernNB.score(X_test,y_test))\n",
    "\n",
    "# print accuracy score for y_test and y_pred\n",
    "print(accuracy_score(y_test, y_pred))"
   ]
  },
  {
   "cell_type": "markdown",
   "id": "34c9a6d3",
   "metadata": {},
   "source": [
    "### Using Multinomial Naive Bayes to predict subreddit classification"
   ]
  },
  {
   "cell_type": "code",
   "execution_count": 15,
   "id": "843f7f39",
   "metadata": {},
   "outputs": [
    {
     "name": "stdout",
     "output_type": "stream",
     "text": [
      "MultinomialNB()\n",
      "0.946218487394958\n",
      "0.9831932773109243\n",
      "0.95\n",
      "0.95\n"
     ]
    }
   ],
   "source": [
    "# fit data to Multinomial Naive Bayes Model\n",
    "MultiNB = MultinomialNB()\n",
    "MultiNB.fit(X_train, y_train)\n",
    "print(MultiNB)\n",
    "\n",
    "# predict subreddit classifcation\n",
    "y_pred = MultiNB.predict(X_test)\n",
    "\n",
    "# Cross-Validation\n",
    "print(cross_val_score(MultiNB, X_train, y_train, cv=5).mean())\n",
    "\n",
    "# Accuracy score for train dataset\n",
    "print(MultiNB.score(X_train, y_train))\n",
    "\n",
    "# Accuracy score for test dataset\n",
    "print(MultiNB.score(X_test, y_test))\n",
    "\n",
    "# print accuracy score for y_test and y_pred\n",
    "print(accuracy_score(y_test, y_pred))"
   ]
  },
  {
   "cell_type": "markdown",
   "id": "e6d2ebcb",
   "metadata": {},
   "source": [
    "### Using Gaussian Naive Bayes to predict subreddit classification"
   ]
  },
  {
   "cell_type": "code",
   "execution_count": 16,
   "id": "6a79ad9b",
   "metadata": {},
   "outputs": [
    {
     "name": "stdout",
     "output_type": "stream",
     "text": [
      "GaussianNB()\n",
      "0.796218487394958\n",
      "0.9756302521008403\n",
      "0.7872549019607843\n",
      "0.7872549019607843\n"
     ]
    }
   ],
   "source": [
    "# fit data to Gaussian Naive Bayes Model\n",
    "GausNB = GaussianNB()\n",
    "GausNB.fit(X_train, y_train)\n",
    "print(GausNB)\n",
    "\n",
    "# predict subreddit classifcation\n",
    "y_pred = GausNB.predict(X_test)\n",
    "\n",
    "# Cross-Validation\n",
    "print(cross_val_score(GausNB, X_train, y_train, cv=5).mean())\n",
    "\n",
    "# Accuracy score for train dataset\n",
    "print(GausNB.score(X_train, y_train))\n",
    "\n",
    "# Accuracy score for test dataset\n",
    "print(GausNB.score(X_test, y_test))\n",
    "\n",
    "# print accuracy score for y_test and y_pred\n",
    "print(accuracy_score(y_test, y_pred))"
   ]
  },
  {
   "cell_type": "markdown",
   "id": "378f3fa8",
   "metadata": {},
   "source": [
    "## Select the best performing Naive Bayes Model"
   ]
  },
  {
   "cell_type": "markdown",
   "id": "2d56323a",
   "metadata": {},
   "source": [
    "| Classification Model | Train Accuracy | Test Accuracy |Score Difference| \n",
    "| :----:| :-------:| :-----:| :----:|\n",
    "|Bernoulli NB|0.500 |0.500 | 0.000|\n",
    "|Multinomial NB|0.983 |0.950 |0.033|\n",
    "|Gaussian NB|0.975 |0.787 |0.188|\n"
   ]
  },
  {
   "cell_type": "markdown",
   "id": "30252ce3",
   "metadata": {},
   "source": [
    "From the table, Multinomial Naive Bayes has the best train and test accuracy scores at 0.983 and 0.950. In addition, the score difference between train and test is 0.033. This implies that the model generalizes well to predicting the test data. Therefore, further analysis will be done to examine the model performance. "
   ]
  },
  {
   "cell_type": "markdown",
   "id": "3db57a6d",
   "metadata": {},
   "source": [
    "### Multinomial Naive Bayes "
   ]
  },
  {
   "cell_type": "code",
   "execution_count": 17,
   "id": "c884eb98",
   "metadata": {},
   "outputs": [
    {
     "name": "stdout",
     "output_type": "stream",
     "text": [
      "MultinomialNB()\n"
     ]
    }
   ],
   "source": [
    "# fit data to Multinomial Naive Bayes Model\n",
    "MultiNB = MultinomialNB()\n",
    "MultiNB.fit(X_train, y_train)\n",
    "print(MultiNB)\n",
    "\n",
    "# predict subreddit classifcation\n",
    "y_pred = MultiNB.predict(X_test)"
   ]
  },
  {
   "cell_type": "code",
   "execution_count": 18,
   "id": "67de5358",
   "metadata": {},
   "outputs": [
    {
     "name": "stdout",
     "output_type": "stream",
     "text": [
      "              precision    recall  f1-score   support\n",
      "\n",
      "           0       0.92      0.99      0.95       510\n",
      "           1       0.99      0.91      0.95       510\n",
      "\n",
      "    accuracy                           0.95      1020\n",
      "   macro avg       0.95      0.95      0.95      1020\n",
      "weighted avg       0.95      0.95      0.95      1020\n",
      "\n"
     ]
    }
   ],
   "source": [
    "# generate classification report\n",
    "print(classification_report(y_test, y_pred))"
   ]
  },
  {
   "cell_type": "code",
   "execution_count": 19,
   "id": "da2fb6f0",
   "metadata": {},
   "outputs": [
    {
     "name": "stdout",
     "output_type": "stream",
     "text": [
      "accuracy score : 0.95\n",
      "precision score : 0.9872611464968153\n",
      "recall score : 0.9117647058823529\n",
      "specificity score : 0.9882352941176471\n"
     ]
    }
   ],
   "source": [
    "# generate cconfusion matrix\n",
    "cm = confusion_matrix(y_test,y_pred)\n",
    "\n",
    "# calculate accuracy, precision, recall(sensitivity) and specificity\n",
    "tn, fp, fn, tp = cm.ravel()\n",
    "\n",
    "acc_score = accuracy_score(y_test, y_pred)        # true predictions / total predictions\n",
    "prec_score = precision_score(y_test, y_pred)      # true positives / (true positives + false positives)\n",
    "rec_score = recall_score(y_test, y_pred)          # true positives / (true positives + false negatives)\n",
    "spec_score = tn / (tn+fp)                         # true negative rate\n",
    "\n",
    "print(\"accuracy score : \" + str(acc_score))\n",
    "print(\"precision score : \" + str(prec_score))\n",
    "print(\"recall score : \" + str(rec_score))\n",
    "print(\"specificity score : \" + str(spec_score))"
   ]
  },
  {
   "cell_type": "code",
   "execution_count": 31,
   "id": "620116ca",
   "metadata": {},
   "outputs": [
    {
     "data": {
      "image/png": "[encoded data removed]",
      "text/plain": [
       "<Figure size 864x864 with 2 Axes>"
      ]
     },
     "metadata": {
      "needs_background": "light"
     },
     "output_type": "display_data"
    }
   ],
   "source": [
    "# create modified labels for confusion matrix\n",
    "modified_cm = []\n",
    "\n",
    "for index,value in enumerate(cm):\n",
    "    if index == 0:\n",
    "        modified_cm.append(['TN = ' + str(value[0]), 'FP = ' + str(value[1])])\n",
    "    if index == 1:\n",
    "        modified_cm.append(['FN = ' + str(value[0]), 'TP = ' + str(value[1])])   \n",
    "\n",
    "# plot confusion matrix\n",
    "plt.figure(figsize=(12,12))\n",
    "ax = sns.heatmap(cm, annot=np.array(modified_cm),\n",
    "            fmt=\"\",\n",
    "            annot_kws={\"size\":20},\n",
    "            linewidths=.5,\n",
    "            square = True,\n",
    "            cmap = 'Blues',\n",
    "            xticklabels = ['r/cryptocurrency','r/stocks'],\n",
    "            yticklabels = ['r/cryptocurrency','r/stocks']);\n",
    "\n",
    "# set x and y labels\n",
    "plt.xlabel('Predicted Subreddit', labelpad=20, fontsize = 17);\n",
    "plt.ylabel('Actual Subreddit', labelpad=20, fontsize = 17);\n",
    "\n",
    "#set tick labels\n",
    "ax.set_xticklabels(ax.get_xmajorticklabels(), fontsize = 14)\n",
    "ax.set_yticklabels(ax.get_ymajorticklabels(), fontsize = 14, rotation = 0)\n",
    "\n",
    "#set title and subtitle \n",
    "ax.text(x=0.5, y=1.2, s='Confusion Matrix for TF-IDF Multinomial Naive Bayes Model', \n",
    "        fontsize=20, weight='bold', ha='center', va='bottom', transform=ax.transAxes)\n",
    "ax.text(x=0.5, y=1.0, s='Accuracy Score: {:.3f}'.format(acc_score) + '\\n' \n",
    "         + 'Precision: {:.3f}'.format(prec_score) + '\\n'\n",
    "         + 'Recall: {:.3f}'.format(rec_score) + '\\n', \n",
    "        fontsize=17, alpha=0.9, ha='center', va='bottom', transform=ax.transAxes);"
   ]
  },
  {
   "cell_type": "markdown",
   "id": "3b6046d4",
   "metadata": {},
   "source": [
    "From the classification report, the accuracy score of the Multinomial Naive Bayes model is 0.950. This means that it classifies 95.0% of the posts in the correct subreddits. \n",
    "\n",
    "From the confusion matrix, we can see that 465 posts from r/stocks and 504 posts from r/cryptocurrency were correctly classified."
   ]
  },
  {
   "cell_type": "markdown",
   "id": "14867c50",
   "metadata": {},
   "source": [
    "## Logistic Regression Modelling"
   ]
  },
  {
   "cell_type": "markdown",
   "id": "b6b4a711",
   "metadata": {},
   "source": [
    "### Logistic Regression"
   ]
  },
  {
   "cell_type": "code",
   "execution_count": 21,
   "id": "162a8b5a",
   "metadata": {},
   "outputs": [],
   "source": [
    "# instantiate the model\n",
    "lr = LogisticRegression()"
   ]
  },
  {
   "cell_type": "code",
   "execution_count": 22,
   "id": "51ac3c84",
   "metadata": {},
   "outputs": [
    {
     "data": {
      "text/plain": [
       "LogisticRegression()"
      ]
     },
     "execution_count": 22,
     "metadata": {},
     "output_type": "execute_result"
    }
   ],
   "source": [
    "# fit and train the model\n",
    "lr.fit(X_train, y_train)"
   ]
  },
  {
   "cell_type": "code",
   "execution_count": 23,
   "id": "c15133af",
   "metadata": {},
   "outputs": [],
   "source": [
    "# predict subreddit classifcation\n",
    "y_pred = lr.predict(X_test)"
   ]
  },
  {
   "cell_type": "code",
   "execution_count": 24,
   "id": "cc430d29",
   "metadata": {},
   "outputs": [
    {
     "name": "stdout",
     "output_type": "stream",
     "text": [
      "0.965126050420168\n",
      "0.9928571428571429\n",
      "0.9607843137254902\n",
      "0.9607843137254902\n"
     ]
    }
   ],
   "source": [
    "# Cross-Validation\n",
    "print(cross_val_score(lr, X_train, y_train, cv=5).mean())\n",
    "\n",
    "# Accuracy score for train dataset\n",
    "print(lr.score(X_train, y_train))\n",
    "\n",
    "# Accuracy score for test dataset\n",
    "print(lr.score(X_test, y_test))\n",
    "\n",
    "# print accuracy score for y_test and y_pred\n",
    "print(accuracy_score(y_test, y_pred))"
   ]
  },
  {
   "cell_type": "code",
   "execution_count": 25,
   "id": "49cebde9",
   "metadata": {},
   "outputs": [
    {
     "name": "stdout",
     "output_type": "stream",
     "text": [
      "              precision    recall  f1-score   support\n",
      "\n",
      "           0       0.97      0.95      0.96       510\n",
      "           1       0.95      0.97      0.96       510\n",
      "\n",
      "    accuracy                           0.96      1020\n",
      "   macro avg       0.96      0.96      0.96      1020\n",
      "weighted avg       0.96      0.96      0.96      1020\n",
      "\n"
     ]
    }
   ],
   "source": [
    "# generate classification report\n",
    "print(classification_report(y_test, y_pred))"
   ]
  },
  {
   "cell_type": "code",
   "execution_count": 26,
   "id": "937d7277",
   "metadata": {},
   "outputs": [
    {
     "name": "stdout",
     "output_type": "stream",
     "text": [
      "accuracy score : 0.9607843137254902\n",
      "precision score : 0.9501915708812261\n",
      "recall score : 0.9725490196078431\n",
      "specificity score : 0.9490196078431372\n"
     ]
    }
   ],
   "source": [
    "# generate cconfusion matrix\n",
    "cm = confusion_matrix(y_test,y_pred)\n",
    "\n",
    "# calculate accuracy, precision, recall(sensitivity) and specificity\n",
    "tn, fp, fn, tp = cm.ravel()\n",
    "\n",
    "acc_score = accuracy_score(y_test, y_pred)        # true predictions / total predictions\n",
    "prec_score = precision_score(y_test, y_pred)      # true positives / (true positives + false positives)\n",
    "rec_score = recall_score(y_test, y_pred)          # true positives / (true positives + false negatives)\n",
    "spec_score = tn / (tn+fp)                         # true negative rate\n",
    "\n",
    "print(\"accuracy score : \" + str(acc_score))\n",
    "print(\"precision score : \" + str(prec_score))\n",
    "print(\"recall score : \" + str(rec_score))\n",
    "print(\"specificity score : \" + str(spec_score))"
   ]
  },
  {
   "cell_type": "code",
   "execution_count": 33,
   "id": "f02358c4",
   "metadata": {},
   "outputs": [
    {
     "data": {
      "image/png": "[encoded data removed]",
      "text/plain": [
       "<Figure size 864x864 with 2 Axes>"
      ]
     },
     "metadata": {
      "needs_background": "light"
     },
     "output_type": "display_data"
    }
   ],
   "source": [
    "# create modified labels for confusion matrix\n",
    "modified_cm = []\n",
    "\n",
    "for index,value in enumerate(cm):\n",
    "    if index == 0:\n",
    "        modified_cm.append(['TN = ' + str(value[0]), 'FP = ' + str(value[1])])\n",
    "    if index == 1:\n",
    "        modified_cm.append(['FN = ' + str(value[0]), 'TP = ' + str(value[1])])   \n",
    "\n",
    "# plot confusion matrix\n",
    "plt.figure(figsize=(12,12))\n",
    "ax = sns.heatmap(cm, annot=np.array(modified_cm),\n",
    "            fmt=\"\",\n",
    "            annot_kws={\"size\":20},\n",
    "            linewidths=.5,\n",
    "            square = True,\n",
    "            cmap = 'Blues',\n",
    "            xticklabels = ['r/cryptocurrency','r/stocks'],\n",
    "            yticklabels = ['r/cryptocurrency','r/stocks']);\n",
    "\n",
    "# set x and y labels\n",
    "plt.xlabel('Predicted Subreddit', labelpad=20, fontsize = 17);\n",
    "plt.ylabel('Actual Subreddit', labelpad=20, fontsize = 17);\n",
    "\n",
    "#set tick labels\n",
    "ax.set_xticklabels(ax.get_xmajorticklabels(), fontsize = 14)\n",
    "ax.set_yticklabels(ax.get_ymajorticklabels(), fontsize = 14, rotation = 0)\n",
    "\n",
    "#set title and subtitle \n",
    "ax.text(x=0.5, y=1.2, s='Confusion Matrix for TF-IDF Logistic Regression Model', \n",
    "        fontsize=20, weight='bold', ha='center', va='bottom', transform=ax.transAxes)\n",
    "ax.text(x=0.5, y=1.0, s='Accuracy Score: {:.3f}'.format(acc_score) + '\\n' \n",
    "         + 'Sensitivity: {:.3f}'.format(rec_score) + '\\n'\n",
    "        + 'Precision: {:.3f}'.format(prec_score) + '\\n',\n",
    "        fontsize=17, alpha=0.9, ha='center', va='bottom', transform=ax.transAxes);"
   ]
  },
  {
   "cell_type": "markdown",
   "id": "7c624e32",
   "metadata": {},
   "source": [
    "From the classification report, the accuracy score of the Multinomial Naive Bayes model is 0.961. This means that it classifies 96.1% of the posts in the correct subreddits. \n",
    "\n",
    "From the confusion matrix, we can see that 496 posts from r/stocks and 484 posts from r/cryptocurrency were correctly classified."
   ]
  },
  {
   "cell_type": "code",
   "execution_count": null,
   "id": "b54b3f01",
   "metadata": {},
   "outputs": [],
   "source": []
  }
 ],
 "metadata": {
  "kernelspec": {
   "display_name": "Python 3",
   "language": "python",
   "name": "python3"
  },
  "language_info": {
   "codemirror_mode": {
    "name": "ipython",
    "version": 3
   },
   "file_extension": ".py",
   "mimetype": "text/x-python",
   "name": "python",
   "nbconvert_exporter": "python",
   "pygments_lexer": "ipython3",
   "version": "3.8.8"
  }
 },
 "nbformat": 4,
 "nbformat_minor": 5
}
