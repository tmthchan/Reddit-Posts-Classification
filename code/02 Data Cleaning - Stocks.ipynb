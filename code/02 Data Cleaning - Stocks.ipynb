{
 "cells": [
  {
   "cell_type": "markdown",
   "id": "853550f0",
   "metadata": {},
   "source": [
    "# 2. Data Cleaning - r/stocks"
   ]
  },
  {
   "cell_type": "code",
   "execution_count": 1,
   "id": "510c4d56",
   "metadata": {},
   "outputs": [],
   "source": [
    "import pandas as pd"
   ]
  },
  {
   "cell_type": "code",
   "execution_count": 2,
   "id": "438213e0",
   "metadata": {},
   "outputs": [],
   "source": [
    "data = pd.read_csv(\"../data/stocks.csv\")"
   ]
  },
  {
   "cell_type": "code",
   "execution_count": 3,
   "id": "e8cdb549",
   "metadata": {},
   "outputs": [
    {
     "data": {
      "text/html": [
       "<div>\n",
       "<style scoped>\n",
       "    .dataframe tbody tr th:only-of-type {\n",
       "        vertical-align: middle;\n",
       "    }\n",
       "\n",
       "    .dataframe tbody tr th {\n",
       "        vertical-align: top;\n",
       "    }\n",
       "\n",
       "    .dataframe thead th {\n",
       "        text-align: right;\n",
       "    }\n",
       "</style>\n",
       "<table border=\"1\" class=\"dataframe\">\n",
       "  <thead>\n",
       "    <tr style=\"text-align: right;\">\n",
       "      <th></th>\n",
       "      <th>subreddit</th>\n",
       "      <th>selftext</th>\n",
       "      <th>title</th>\n",
       "      <th>created_utc</th>\n",
       "    </tr>\n",
       "  </thead>\n",
       "  <tbody>\n",
       "    <tr>\n",
       "      <th>0</th>\n",
       "      <td>stocks</td>\n",
       "      <td>I am earning very little at the moment but I w...</td>\n",
       "      <td>Advise on Long Term Stock?</td>\n",
       "      <td>1626851004</td>\n",
       "    </tr>\n",
       "    <tr>\n",
       "      <th>1</th>\n",
       "      <td>stocks</td>\n",
       "      <td>[removed]</td>\n",
       "      <td>Earning plays</td>\n",
       "      <td>1626847571</td>\n",
       "    </tr>\n",
       "    <tr>\n",
       "      <th>2</th>\n",
       "      <td>stocks</td>\n",
       "      <td>[removed]</td>\n",
       "      <td>Going long vega? what is the maximum loss?</td>\n",
       "      <td>1626847468</td>\n",
       "    </tr>\n",
       "    <tr>\n",
       "      <th>3</th>\n",
       "      <td>stocks</td>\n",
       "      <td>The stocks I chose were aapl, net, asts, icln,...</td>\n",
       "      <td>Dad told me to sell on Monday when the market ...</td>\n",
       "      <td>1626847423</td>\n",
       "    </tr>\n",
       "    <tr>\n",
       "      <th>4</th>\n",
       "      <td>stocks</td>\n",
       "      <td>[removed]</td>\n",
       "      <td>Newbie trader. Dad told me to sell when the ma...</td>\n",
       "      <td>1626847066</td>\n",
       "    </tr>\n",
       "  </tbody>\n",
       "</table>\n",
       "</div>"
      ],
      "text/plain": [
       "  subreddit                                           selftext  \\\n",
       "0    stocks  I am earning very little at the moment but I w...   \n",
       "1    stocks                                          [removed]   \n",
       "2    stocks                                          [removed]   \n",
       "3    stocks  The stocks I chose were aapl, net, asts, icln,...   \n",
       "4    stocks                                          [removed]   \n",
       "\n",
       "                                               title  created_utc  \n",
       "0                         Advise on Long Term Stock?   1626851004  \n",
       "1                                      Earning plays   1626847571  \n",
       "2         Going long vega? what is the maximum loss?   1626847468  \n",
       "3  Dad told me to sell on Monday when the market ...   1626847423  \n",
       "4  Newbie trader. Dad told me to sell when the ma...   1626847066  "
      ]
     },
     "execution_count": 3,
     "metadata": {},
     "output_type": "execute_result"
    }
   ],
   "source": [
    "data.head()"
   ]
  },
  {
   "cell_type": "code",
   "execution_count": 4,
   "id": "8f486206",
   "metadata": {},
   "outputs": [
    {
     "data": {
      "text/html": [
       "<div>\n",
       "<style scoped>\n",
       "    .dataframe tbody tr th:only-of-type {\n",
       "        vertical-align: middle;\n",
       "    }\n",
       "\n",
       "    .dataframe tbody tr th {\n",
       "        vertical-align: top;\n",
       "    }\n",
       "\n",
       "    .dataframe thead th {\n",
       "        text-align: right;\n",
       "    }\n",
       "</style>\n",
       "<table border=\"1\" class=\"dataframe\">\n",
       "  <thead>\n",
       "    <tr style=\"text-align: right;\">\n",
       "      <th></th>\n",
       "      <th>subreddit</th>\n",
       "      <th>selftext</th>\n",
       "      <th>title</th>\n",
       "      <th>created_utc</th>\n",
       "    </tr>\n",
       "  </thead>\n",
       "  <tbody>\n",
       "    <tr>\n",
       "      <th>5095</th>\n",
       "      <td>stocks</td>\n",
       "      <td>[removed]</td>\n",
       "      <td>IRBT??? All of the sudden 28% short on the float</td>\n",
       "      <td>1624393162</td>\n",
       "    </tr>\n",
       "    <tr>\n",
       "      <th>5096</th>\n",
       "      <td>stocks</td>\n",
       "      <td>[removed]</td>\n",
       "      <td>Trader Bot 9000</td>\n",
       "      <td>1624393082</td>\n",
       "    </tr>\n",
       "    <tr>\n",
       "      <th>5097</th>\n",
       "      <td>stocks</td>\n",
       "      <td>https://www.bloomberg.com/news/articles/2021-0...</td>\n",
       "      <td>MSFT closes at $2 Trillion, as second U.S. com...</td>\n",
       "      <td>1624393058</td>\n",
       "    </tr>\n",
       "    <tr>\n",
       "      <th>5098</th>\n",
       "      <td>stocks</td>\n",
       "      <td>[removed]</td>\n",
       "      <td>5g Stocks Evaluation</td>\n",
       "      <td>1624393048</td>\n",
       "    </tr>\n",
       "    <tr>\n",
       "      <th>5099</th>\n",
       "      <td>stocks</td>\n",
       "      <td>[removed]</td>\n",
       "      <td>MSFT closes at $2 Trillion, as second U.S. com...</td>\n",
       "      <td>1624392821</td>\n",
       "    </tr>\n",
       "  </tbody>\n",
       "</table>\n",
       "</div>"
      ],
      "text/plain": [
       "     subreddit                                           selftext  \\\n",
       "5095    stocks                                          [removed]   \n",
       "5096    stocks                                          [removed]   \n",
       "5097    stocks  https://www.bloomberg.com/news/articles/2021-0...   \n",
       "5098    stocks                                          [removed]   \n",
       "5099    stocks                                          [removed]   \n",
       "\n",
       "                                                  title  created_utc  \n",
       "5095   IRBT??? All of the sudden 28% short on the float   1624393162  \n",
       "5096                                    Trader Bot 9000   1624393082  \n",
       "5097  MSFT closes at $2 Trillion, as second U.S. com...   1624393058  \n",
       "5098                               5g Stocks Evaluation   1624393048  \n",
       "5099  MSFT closes at $2 Trillion, as second U.S. com...   1624392821  "
      ]
     },
     "execution_count": 4,
     "metadata": {},
     "output_type": "execute_result"
    }
   ],
   "source": [
    "data.tail()"
   ]
  },
  {
   "cell_type": "code",
   "execution_count": 5,
   "id": "0390aa78",
   "metadata": {},
   "outputs": [
    {
     "data": {
      "text/plain": [
       "(5100, 4)"
      ]
     },
     "execution_count": 5,
     "metadata": {},
     "output_type": "execute_result"
    }
   ],
   "source": [
    "data.shape"
   ]
  },
  {
   "cell_type": "code",
   "execution_count": 6,
   "id": "56f9555f",
   "metadata": {},
   "outputs": [
    {
     "data": {
      "text/plain": [
       "subreddit       0\n",
       "selftext       14\n",
       "title           0\n",
       "created_utc     0\n",
       "dtype: int64"
      ]
     },
     "execution_count": 6,
     "metadata": {},
     "output_type": "execute_result"
    }
   ],
   "source": [
    "data.isnull().sum()"
   ]
  },
  {
   "cell_type": "code",
   "execution_count": 7,
   "id": "8f37530d",
   "metadata": {},
   "outputs": [
    {
     "data": {
      "text/html": [
       "<div>\n",
       "<style scoped>\n",
       "    .dataframe tbody tr th:only-of-type {\n",
       "        vertical-align: middle;\n",
       "    }\n",
       "\n",
       "    .dataframe tbody tr th {\n",
       "        vertical-align: top;\n",
       "    }\n",
       "\n",
       "    .dataframe thead th {\n",
       "        text-align: right;\n",
       "    }\n",
       "</style>\n",
       "<table border=\"1\" class=\"dataframe\">\n",
       "  <thead>\n",
       "    <tr style=\"text-align: right;\">\n",
       "      <th></th>\n",
       "      <th>subreddit</th>\n",
       "      <th>selftext</th>\n",
       "      <th>title</th>\n",
       "      <th>created_utc</th>\n",
       "    </tr>\n",
       "  </thead>\n",
       "  <tbody>\n",
       "    <tr>\n",
       "      <th>0</th>\n",
       "      <td>stocks</td>\n",
       "      <td>I am earning very little at the moment but I w...</td>\n",
       "      <td>Advise on Long Term Stock?</td>\n",
       "      <td>1626851004</td>\n",
       "    </tr>\n",
       "    <tr>\n",
       "      <th>1</th>\n",
       "      <td>stocks</td>\n",
       "      <td>[removed]</td>\n",
       "      <td>Earning plays</td>\n",
       "      <td>1626847571</td>\n",
       "    </tr>\n",
       "    <tr>\n",
       "      <th>2</th>\n",
       "      <td>stocks</td>\n",
       "      <td>[removed]</td>\n",
       "      <td>Going long vega? what is the maximum loss?</td>\n",
       "      <td>1626847468</td>\n",
       "    </tr>\n",
       "    <tr>\n",
       "      <th>3</th>\n",
       "      <td>stocks</td>\n",
       "      <td>The stocks I chose were aapl, net, asts, icln,...</td>\n",
       "      <td>Dad told me to sell on Monday when the market ...</td>\n",
       "      <td>1626847423</td>\n",
       "    </tr>\n",
       "    <tr>\n",
       "      <th>4</th>\n",
       "      <td>stocks</td>\n",
       "      <td>[removed]</td>\n",
       "      <td>Newbie trader. Dad told me to sell when the ma...</td>\n",
       "      <td>1626847066</td>\n",
       "    </tr>\n",
       "    <tr>\n",
       "      <th>...</th>\n",
       "      <td>...</td>\n",
       "      <td>...</td>\n",
       "      <td>...</td>\n",
       "      <td>...</td>\n",
       "    </tr>\n",
       "    <tr>\n",
       "      <th>5095</th>\n",
       "      <td>stocks</td>\n",
       "      <td>[removed]</td>\n",
       "      <td>IRBT??? All of the sudden 28% short on the float</td>\n",
       "      <td>1624393162</td>\n",
       "    </tr>\n",
       "    <tr>\n",
       "      <th>5096</th>\n",
       "      <td>stocks</td>\n",
       "      <td>[removed]</td>\n",
       "      <td>Trader Bot 9000</td>\n",
       "      <td>1624393082</td>\n",
       "    </tr>\n",
       "    <tr>\n",
       "      <th>5097</th>\n",
       "      <td>stocks</td>\n",
       "      <td>https://www.bloomberg.com/news/articles/2021-0...</td>\n",
       "      <td>MSFT closes at $2 Trillion, as second U.S. com...</td>\n",
       "      <td>1624393058</td>\n",
       "    </tr>\n",
       "    <tr>\n",
       "      <th>5098</th>\n",
       "      <td>stocks</td>\n",
       "      <td>[removed]</td>\n",
       "      <td>5g Stocks Evaluation</td>\n",
       "      <td>1624393048</td>\n",
       "    </tr>\n",
       "    <tr>\n",
       "      <th>5099</th>\n",
       "      <td>stocks</td>\n",
       "      <td>[removed]</td>\n",
       "      <td>MSFT closes at $2 Trillion, as second U.S. com...</td>\n",
       "      <td>1624392821</td>\n",
       "    </tr>\n",
       "  </tbody>\n",
       "</table>\n",
       "<p>5100 rows × 4 columns</p>\n",
       "</div>"
      ],
      "text/plain": [
       "     subreddit                                           selftext  \\\n",
       "0       stocks  I am earning very little at the moment but I w...   \n",
       "1       stocks                                          [removed]   \n",
       "2       stocks                                          [removed]   \n",
       "3       stocks  The stocks I chose were aapl, net, asts, icln,...   \n",
       "4       stocks                                          [removed]   \n",
       "...        ...                                                ...   \n",
       "5095    stocks                                          [removed]   \n",
       "5096    stocks                                          [removed]   \n",
       "5097    stocks  https://www.bloomberg.com/news/articles/2021-0...   \n",
       "5098    stocks                                          [removed]   \n",
       "5099    stocks                                          [removed]   \n",
       "\n",
       "                                                  title  created_utc  \n",
       "0                            Advise on Long Term Stock?   1626851004  \n",
       "1                                         Earning plays   1626847571  \n",
       "2            Going long vega? what is the maximum loss?   1626847468  \n",
       "3     Dad told me to sell on Monday when the market ...   1626847423  \n",
       "4     Newbie trader. Dad told me to sell when the ma...   1626847066  \n",
       "...                                                 ...          ...  \n",
       "5095   IRBT??? All of the sudden 28% short on the float   1624393162  \n",
       "5096                                    Trader Bot 9000   1624393082  \n",
       "5097  MSFT closes at $2 Trillion, as second U.S. com...   1624393058  \n",
       "5098                               5g Stocks Evaluation   1624393048  \n",
       "5099  MSFT closes at $2 Trillion, as second U.S. com...   1624392821  \n",
       "\n",
       "[5100 rows x 4 columns]"
      ]
     },
     "execution_count": 7,
     "metadata": {},
     "output_type": "execute_result"
    }
   ],
   "source": [
    "data"
   ]
  },
  {
   "cell_type": "code",
   "execution_count": 8,
   "id": "c7d7daf6",
   "metadata": {},
   "outputs": [],
   "source": [
    "data = data.drop(data[(data[\"selftext\"]==\"[removed]\")].index)"
   ]
  },
  {
   "cell_type": "code",
   "execution_count": 9,
   "id": "12192062",
   "metadata": {},
   "outputs": [
    {
     "data": {
      "text/plain": [
       "(1809, 4)"
      ]
     },
     "execution_count": 9,
     "metadata": {},
     "output_type": "execute_result"
    }
   ],
   "source": [
    "data.shape"
   ]
  },
  {
   "cell_type": "code",
   "execution_count": 10,
   "id": "7428efd7",
   "metadata": {},
   "outputs": [],
   "source": [
    "data = data.drop(data[(data[\"selftext\"].isna() == True)].index)"
   ]
  },
  {
   "cell_type": "code",
   "execution_count": 11,
   "id": "dfc1b925",
   "metadata": {},
   "outputs": [
    {
     "data": {
      "text/plain": [
       "(1795, 4)"
      ]
     },
     "execution_count": 11,
     "metadata": {},
     "output_type": "execute_result"
    }
   ],
   "source": [
    "data.shape"
   ]
  },
  {
   "cell_type": "code",
   "execution_count": 12,
   "id": "b2877479",
   "metadata": {},
   "outputs": [
    {
     "data": {
      "text/plain": [
       "subreddit      0\n",
       "selftext       0\n",
       "title          0\n",
       "created_utc    0\n",
       "dtype: int64"
      ]
     },
     "execution_count": 12,
     "metadata": {},
     "output_type": "execute_result"
    }
   ],
   "source": [
    "data.isnull().sum()"
   ]
  },
  {
   "cell_type": "code",
   "execution_count": 13,
   "id": "252afa0b",
   "metadata": {},
   "outputs": [
    {
     "data": {
      "text/html": [
       "<div>\n",
       "<style scoped>\n",
       "    .dataframe tbody tr th:only-of-type {\n",
       "        vertical-align: middle;\n",
       "    }\n",
       "\n",
       "    .dataframe tbody tr th {\n",
       "        vertical-align: top;\n",
       "    }\n",
       "\n",
       "    .dataframe thead th {\n",
       "        text-align: right;\n",
       "    }\n",
       "</style>\n",
       "<table border=\"1\" class=\"dataframe\">\n",
       "  <thead>\n",
       "    <tr style=\"text-align: right;\">\n",
       "      <th></th>\n",
       "      <th>subreddit</th>\n",
       "      <th>selftext</th>\n",
       "      <th>title</th>\n",
       "      <th>created_utc</th>\n",
       "    </tr>\n",
       "  </thead>\n",
       "  <tbody>\n",
       "    <tr>\n",
       "      <th>5085</th>\n",
       "      <td>stocks</td>\n",
       "      <td>As a small business owner I have an LLC; after...</td>\n",
       "      <td>Thoughts on moving ownership of a brokerage ac...</td>\n",
       "      <td>1624395798</td>\n",
       "    </tr>\n",
       "    <tr>\n",
       "      <th>5086</th>\n",
       "      <td>stocks</td>\n",
       "      <td>HIMS - Anyone answer me why this stock just vo...</td>\n",
       "      <td>HIMS - Anyone answer me why this stock just vo...</td>\n",
       "      <td>1624395708</td>\n",
       "    </tr>\n",
       "    <tr>\n",
       "      <th>5088</th>\n",
       "      <td>stocks</td>\n",
       "      <td>**PsychoMarket Recap - Tuesday, June 22, 2021*...</td>\n",
       "      <td>Here is a Market Recap for today Tuesday, June...</td>\n",
       "      <td>1624395669</td>\n",
       "    </tr>\n",
       "    <tr>\n",
       "      <th>5094</th>\n",
       "      <td>stocks</td>\n",
       "      <td>What is going on with plug power? is it a meme...</td>\n",
       "      <td>About PLUG Power...</td>\n",
       "      <td>1624393256</td>\n",
       "    </tr>\n",
       "    <tr>\n",
       "      <th>5097</th>\n",
       "      <td>stocks</td>\n",
       "      <td>https://www.bloomberg.com/news/articles/2021-0...</td>\n",
       "      <td>MSFT closes at $2 Trillion, as second U.S. com...</td>\n",
       "      <td>1624393058</td>\n",
       "    </tr>\n",
       "  </tbody>\n",
       "</table>\n",
       "</div>"
      ],
      "text/plain": [
       "     subreddit                                           selftext  \\\n",
       "5085    stocks  As a small business owner I have an LLC; after...   \n",
       "5086    stocks  HIMS - Anyone answer me why this stock just vo...   \n",
       "5088    stocks  **PsychoMarket Recap - Tuesday, June 22, 2021*...   \n",
       "5094    stocks  What is going on with plug power? is it a meme...   \n",
       "5097    stocks  https://www.bloomberg.com/news/articles/2021-0...   \n",
       "\n",
       "                                                  title  created_utc  \n",
       "5085  Thoughts on moving ownership of a brokerage ac...   1624395798  \n",
       "5086  HIMS - Anyone answer me why this stock just vo...   1624395708  \n",
       "5088  Here is a Market Recap for today Tuesday, June...   1624395669  \n",
       "5094                                About PLUG Power...   1624393256  \n",
       "5097  MSFT closes at $2 Trillion, as second U.S. com...   1624393058  "
      ]
     },
     "execution_count": 13,
     "metadata": {},
     "output_type": "execute_result"
    }
   ],
   "source": [
    "data.tail()"
   ]
  },
  {
   "cell_type": "code",
   "execution_count": 14,
   "id": "d336a7bb",
   "metadata": {},
   "outputs": [
    {
     "data": {
      "text/plain": [
       "(1795, 4)"
      ]
     },
     "execution_count": 14,
     "metadata": {},
     "output_type": "execute_result"
    }
   ],
   "source": [
    "data.shape"
   ]
  },
  {
   "cell_type": "code",
   "execution_count": 15,
   "id": "0b957d1a",
   "metadata": {},
   "outputs": [],
   "source": [
    "# drop duplicates in \"selftext\"\n",
    "data.drop_duplicates(subset=[\"selftext\"], keep='last', inplace=True)"
   ]
  },
  {
   "cell_type": "code",
   "execution_count": 16,
   "id": "9b5d9f1a",
   "metadata": {},
   "outputs": [
    {
     "data": {
      "text/plain": [
       "(1746, 4)"
      ]
     },
     "execution_count": 16,
     "metadata": {},
     "output_type": "execute_result"
    }
   ],
   "source": [
    "data.shape"
   ]
  },
  {
   "cell_type": "code",
   "execution_count": 17,
   "id": "3f9c4efa",
   "metadata": {},
   "outputs": [],
   "source": [
    "# keep first 1700 rows in dataset\n",
    "data = data[0:1700]"
   ]
  },
  {
   "cell_type": "code",
   "execution_count": 18,
   "id": "0b331f07",
   "metadata": {},
   "outputs": [
    {
     "data": {
      "text/plain": [
       "(1700, 4)"
      ]
     },
     "execution_count": 18,
     "metadata": {},
     "output_type": "execute_result"
    }
   ],
   "source": [
    "data.shape"
   ]
  },
  {
   "cell_type": "code",
   "execution_count": 19,
   "id": "891e7678",
   "metadata": {},
   "outputs": [],
   "source": [
    "#save to csv\n",
    "data.to_csv('../data/stocks_clean.csv',index=False)"
   ]
  },
  {
   "cell_type": "code",
   "execution_count": null,
   "id": "07b2e763",
   "metadata": {},
   "outputs": [],
   "source": []
  }
 ],
 "metadata": {
  "kernelspec": {
   "display_name": "Python 3",
   "language": "python",
   "name": "python3"
  },
  "language_info": {
   "codemirror_mode": {
    "name": "ipython",
    "version": 3
   },
   "file_extension": ".py",
   "mimetype": "text/x-python",
   "name": "python",
   "nbconvert_exporter": "python",
   "pygments_lexer": "ipython3",
   "version": "3.8.8"
  }
 },
 "nbformat": 4,
 "nbformat_minor": 5
}
