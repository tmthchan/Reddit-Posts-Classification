{
 "cells": [
  {
   "cell_type": "markdown",
   "id": "cb18060e",
   "metadata": {},
   "source": [
    "# 6. Model Evaluation"
   ]
  },
  {
   "cell_type": "markdown",
   "id": "afad75e4",
   "metadata": {},
   "source": [
    "## Null Accuracy"
   ]
  },
  {
   "cell_type": "markdown",
   "id": "4454af37",
   "metadata": {},
   "source": [
    "Since the proportion of posts in both subreddits is 50-50, the null accuracy will be 50%. That means a dumb model that only predicts 1 will be correct 50% of the time."
   ]
  },
  {
   "cell_type": "markdown",
   "id": "5b3aa409",
   "metadata": {},
   "source": [
    "## Model Accuracy"
   ]
  },
  {
   "cell_type": "markdown",
   "id": "9cd45cdb",
   "metadata": {},
   "source": [
    "|Vectorizer| Classification Model | Accuracy | Precision | Recall (Sensitivity) | Specificity |\n",
    "|:----:| :----:| :-------:| :-----:| :-----:|:-------:|\n",
    "|Count| Multinomial NB|0.930 |0.987 |0.873 |0.988 |\n",
    "|Count| Log Regression|0.956 |0.955 |0.957 |0.955 |\n",
    "|TF-IDF| Multinomial NB|0.950 |0.987 |0.911 |0.988 |\n",
    "|TF-IDF| Log Regression|0.961 |0.950 |0.973 |0.949 |\n"
   ]
  },
  {
   "cell_type": "markdown",
   "id": "6c06932a",
   "metadata": {},
   "source": [
    "Based on the 4 different models, TF-IDF vectorization together with Logistic Regression (TF-IDF/LR) displays the best performance for our classification problem. \n",
    "\n",
    "When comparing the two vectorization methods using the same classification model, TF-IDF produces slightly better results than Count Vectorization. This is likely due to the weightage score that TF-IDF assigns to each word with respect to the frequency of the word appearing in the document. For classification models, Logistic Regression shows better accuracy and recall scores than Multinomial NB for the same vectorization method.\n",
    "\n",
    "To maintain the quality of subreddits, the accuracy and recall scores are most important in measuring the performance of the classification model. Recall is defined as the percent (or proportion) of all 1s that are correctly classified as 1s. In this case, posts from r/stocks are classified as 1s.\n",
    "\n",
    "TF-IDF/LR has an accuracy score of 0.961, this means that the model is able to classify 96.1% of the posts in the correct subreddits. When comparing the model accuracy to the null accuracy, the TF-IDF/LR model outperforms the null model, 96.1% compared to 50%. \n",
    "\n",
    "Apart from accuracy, the recall score from the TF-IDF/LR model is 0.973. This implies that 97.3% of posts in r/stocks are classified correctly and 2.7% of posts meant for r/stocks are classified wrongly. This metric is useful in measuring how many posts are excluded due to incorrect classification. As a result, we can be certain that most users who spend time and effort to share relevant content in a subreddit will not be excluded.\n"
   ]
  },
  {
   "cell_type": "markdown",
   "id": "a8efce33",
   "metadata": {},
   "source": [
    "# 7. Conclusion and Recommendations"
   ]
  },
  {
   "cell_type": "markdown",
   "id": "cecc3b3d",
   "metadata": {},
   "source": [
    "The two metrics highlighted above ensure that every post in the subreddit is of high relevance and users will have access to more useful content. This will maintain a strong engagement with the community of reddit users and advertisers will be more willing to spend on campaigns to reach out to this group. At the same time, being able to incorporate this model into the auto moderator tool will help reddit moderators reduce the effort needed to filter out irrelevant content. That way, they could divert more focus to growing their subreddits and engaging with users. This NLP model can be used on other subreddits to improve the quality and relevance of their content.\n",
    "\n",
    "Moving forward, posts that are wrongly classified under a subreddit can be forwarded to the moderators for review. Together with the word pairs that are discovered through the analysis, the moderators can use their experience and judgement to decide if the posts should be reclassified. In addition, we can use other classification methods like Adaptive Boosting to build a model that is able to learn from misclassified posts to improve the model performance."
   ]
  },
  {
   "cell_type": "code",
   "execution_count": null,
   "id": "4622292f",
   "metadata": {},
   "outputs": [],
   "source": []
  }
 ],
 "metadata": {
  "kernelspec": {
   "display_name": "Python 3",
   "language": "python",
   "name": "python3"
  },
  "language_info": {
   "codemirror_mode": {
    "name": "ipython",
    "version": 3
   },
   "file_extension": ".py",
   "mimetype": "text/x-python",
   "name": "python",
   "nbconvert_exporter": "python",
   "pygments_lexer": "ipython3",
   "version": "3.8.8"
  }
 },
 "nbformat": 4,
 "nbformat_minor": 5
}
