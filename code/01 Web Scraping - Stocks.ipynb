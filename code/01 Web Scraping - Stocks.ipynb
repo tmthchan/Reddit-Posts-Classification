{
 "cells": [
  {
   "cell_type": "markdown",
   "id": "4b27b757",
   "metadata": {},
   "source": [
    "# 1. Web Scraping - r/stocks"
   ]
  },
  {
   "cell_type": "code",
   "execution_count": 1,
   "id": "db70b65a",
   "metadata": {},
   "outputs": [],
   "source": [
    "import pandas as pd\n",
    "import requests\n",
    "import time"
   ]
  },
  {
   "cell_type": "code",
   "execution_count": 2,
   "id": "e53ba4d0",
   "metadata": {},
   "outputs": [],
   "source": [
    "# set base url\n",
    "url = 'https://api.pushshift.io/reddit/search/submission'"
   ]
  },
  {
   "cell_type": "code",
   "execution_count": 3,
   "id": "0f7bb28e",
   "metadata": {},
   "outputs": [],
   "source": [
    "# set parameters for scraping\n",
    "params = {\n",
    "    'subreddit':'stocks',\n",
    "    'size': 100,\n",
    "    'before': 1626851005\n",
    "}"
   ]
  },
  {
   "cell_type": "code",
   "execution_count": 4,
   "id": "0e46f659",
   "metadata": {},
   "outputs": [],
   "source": [
    "# assign response\n",
    "res = requests.get(url, params)"
   ]
  },
  {
   "cell_type": "code",
   "execution_count": 5,
   "id": "9613b9fc",
   "metadata": {},
   "outputs": [
    {
     "data": {
      "text/plain": [
       "200"
      ]
     },
     "execution_count": 5,
     "metadata": {},
     "output_type": "execute_result"
    }
   ],
   "source": [
    "# get status code\n",
    "res.status_code"
   ]
  },
  {
   "cell_type": "code",
   "execution_count": 6,
   "id": "2de80e94",
   "metadata": {},
   "outputs": [],
   "source": [
    "# save the response into a dataset\n",
    "data = res.json()"
   ]
  },
  {
   "cell_type": "code",
   "execution_count": 7,
   "id": "11249fe2",
   "metadata": {},
   "outputs": [
    {
     "name": "stdout",
     "output_type": "stream",
     "text": [
      "<class 'dict'>\n"
     ]
    }
   ],
   "source": [
    "print(type(data))"
   ]
  },
  {
   "cell_type": "code",
   "execution_count": 8,
   "id": "0985e7dd",
   "metadata": {},
   "outputs": [],
   "source": [
    "# add dict to a list\n",
    "list = []\n",
    "list.append(data)"
   ]
  },
  {
   "cell_type": "code",
   "execution_count": 9,
   "id": "8b467929",
   "metadata": {},
   "outputs": [],
   "source": [
    "# save the 'data' key in data dictionary as posts\n",
    "posts = data['data']"
   ]
  },
  {
   "cell_type": "code",
   "execution_count": 10,
   "id": "2aae5911",
   "metadata": {},
   "outputs": [
    {
     "data": {
      "text/plain": [
       "100"
      ]
     },
     "execution_count": 10,
     "metadata": {},
     "output_type": "execute_result"
    }
   ],
   "source": [
    "len(posts)"
   ]
  },
  {
   "cell_type": "code",
   "execution_count": 11,
   "id": "8d1f4646",
   "metadata": {},
   "outputs": [],
   "source": [
    "# save the posts as a dataframe\n",
    "df = pd.DataFrame(posts)"
   ]
  },
  {
   "cell_type": "code",
   "execution_count": 12,
   "id": "887c76f9",
   "metadata": {},
   "outputs": [
    {
     "data": {
      "text/html": [
       "<div>\n",
       "<style scoped>\n",
       "    .dataframe tbody tr th:only-of-type {\n",
       "        vertical-align: middle;\n",
       "    }\n",
       "\n",
       "    .dataframe tbody tr th {\n",
       "        vertical-align: top;\n",
       "    }\n",
       "\n",
       "    .dataframe thead th {\n",
       "        text-align: right;\n",
       "    }\n",
       "</style>\n",
       "<table border=\"1\" class=\"dataframe\">\n",
       "  <thead>\n",
       "    <tr style=\"text-align: right;\">\n",
       "      <th></th>\n",
       "      <th>all_awardings</th>\n",
       "      <th>allow_live_comments</th>\n",
       "      <th>author</th>\n",
       "      <th>author_flair_css_class</th>\n",
       "      <th>author_flair_richtext</th>\n",
       "      <th>author_flair_text</th>\n",
       "      <th>author_flair_type</th>\n",
       "      <th>author_fullname</th>\n",
       "      <th>author_is_blocked</th>\n",
       "      <th>author_patreon_flair</th>\n",
       "      <th>...</th>\n",
       "      <th>wls</th>\n",
       "      <th>link_flair_css_class</th>\n",
       "      <th>link_flair_template_id</th>\n",
       "      <th>link_flair_text</th>\n",
       "      <th>removed_by_category</th>\n",
       "      <th>post_hint</th>\n",
       "      <th>preview</th>\n",
       "      <th>author_flair_background_color</th>\n",
       "      <th>author_flair_text_color</th>\n",
       "      <th>banned_by</th>\n",
       "    </tr>\n",
       "  </thead>\n",
       "  <tbody>\n",
       "    <tr>\n",
       "      <th>0</th>\n",
       "      <td>[]</td>\n",
       "      <td>False</td>\n",
       "      <td>touchmaspaghetkev</td>\n",
       "      <td>None</td>\n",
       "      <td>[]</td>\n",
       "      <td>None</td>\n",
       "      <td>text</td>\n",
       "      <td>t2_33242o42</td>\n",
       "      <td>False</td>\n",
       "      <td>False</td>\n",
       "      <td>...</td>\n",
       "      <td>6</td>\n",
       "      <td>NaN</td>\n",
       "      <td>NaN</td>\n",
       "      <td>NaN</td>\n",
       "      <td>NaN</td>\n",
       "      <td>NaN</td>\n",
       "      <td>NaN</td>\n",
       "      <td>NaN</td>\n",
       "      <td>NaN</td>\n",
       "      <td>NaN</td>\n",
       "    </tr>\n",
       "    <tr>\n",
       "      <th>1</th>\n",
       "      <td>[]</td>\n",
       "      <td>False</td>\n",
       "      <td>Deagio1997</td>\n",
       "      <td>None</td>\n",
       "      <td>[]</td>\n",
       "      <td>None</td>\n",
       "      <td>text</td>\n",
       "      <td>t2_4u4wrs51</td>\n",
       "      <td>False</td>\n",
       "      <td>False</td>\n",
       "      <td>...</td>\n",
       "      <td>6</td>\n",
       "      <td>trades</td>\n",
       "      <td>9f73d782-65e6-11e5-8878-12292be1b4e9</td>\n",
       "      <td>Trades</td>\n",
       "      <td>moderator</td>\n",
       "      <td>NaN</td>\n",
       "      <td>NaN</td>\n",
       "      <td>NaN</td>\n",
       "      <td>NaN</td>\n",
       "      <td>NaN</td>\n",
       "    </tr>\n",
       "    <tr>\n",
       "      <th>2</th>\n",
       "      <td>[]</td>\n",
       "      <td>False</td>\n",
       "      <td>UrgeToSurge</td>\n",
       "      <td>None</td>\n",
       "      <td>[]</td>\n",
       "      <td>None</td>\n",
       "      <td>text</td>\n",
       "      <td>t2_12bt69</td>\n",
       "      <td>False</td>\n",
       "      <td>False</td>\n",
       "      <td>...</td>\n",
       "      <td>6</td>\n",
       "      <td>NaN</td>\n",
       "      <td>NaN</td>\n",
       "      <td>NaN</td>\n",
       "      <td>moderator</td>\n",
       "      <td>NaN</td>\n",
       "      <td>NaN</td>\n",
       "      <td>NaN</td>\n",
       "      <td>NaN</td>\n",
       "      <td>NaN</td>\n",
       "    </tr>\n",
       "    <tr>\n",
       "      <th>3</th>\n",
       "      <td>[]</td>\n",
       "      <td>False</td>\n",
       "      <td>Fyrebirdy123</td>\n",
       "      <td>None</td>\n",
       "      <td>[]</td>\n",
       "      <td>None</td>\n",
       "      <td>text</td>\n",
       "      <td>t2_180g0sph</td>\n",
       "      <td>False</td>\n",
       "      <td>False</td>\n",
       "      <td>...</td>\n",
       "      <td>6</td>\n",
       "      <td>advicerequest</td>\n",
       "      <td>75a227ec-65e6-11e5-96ee-12d48f46797b</td>\n",
       "      <td>Advice Request</td>\n",
       "      <td>NaN</td>\n",
       "      <td>NaN</td>\n",
       "      <td>NaN</td>\n",
       "      <td>NaN</td>\n",
       "      <td>NaN</td>\n",
       "      <td>NaN</td>\n",
       "    </tr>\n",
       "    <tr>\n",
       "      <th>4</th>\n",
       "      <td>[]</td>\n",
       "      <td>False</td>\n",
       "      <td>Fyrebirdy123</td>\n",
       "      <td>None</td>\n",
       "      <td>[]</td>\n",
       "      <td>None</td>\n",
       "      <td>text</td>\n",
       "      <td>t2_180g0sph</td>\n",
       "      <td>NaN</td>\n",
       "      <td>False</td>\n",
       "      <td>...</td>\n",
       "      <td>6</td>\n",
       "      <td>advicerequest</td>\n",
       "      <td>75a227ec-65e6-11e5-96ee-12d48f46797b</td>\n",
       "      <td>Advice Request</td>\n",
       "      <td>moderator</td>\n",
       "      <td>NaN</td>\n",
       "      <td>NaN</td>\n",
       "      <td>NaN</td>\n",
       "      <td>NaN</td>\n",
       "      <td>NaN</td>\n",
       "    </tr>\n",
       "  </tbody>\n",
       "</table>\n",
       "<p>5 rows × 68 columns</p>\n",
       "</div>"
      ],
      "text/plain": [
       "  all_awardings  allow_live_comments             author  \\\n",
       "0            []                False  touchmaspaghetkev   \n",
       "1            []                False         Deagio1997   \n",
       "2            []                False        UrgeToSurge   \n",
       "3            []                False       Fyrebirdy123   \n",
       "4            []                False       Fyrebirdy123   \n",
       "\n",
       "  author_flair_css_class author_flair_richtext author_flair_text  \\\n",
       "0                   None                    []              None   \n",
       "1                   None                    []              None   \n",
       "2                   None                    []              None   \n",
       "3                   None                    []              None   \n",
       "4                   None                    []              None   \n",
       "\n",
       "  author_flair_type author_fullname author_is_blocked author_patreon_flair  \\\n",
       "0              text     t2_33242o42             False                False   \n",
       "1              text     t2_4u4wrs51             False                False   \n",
       "2              text       t2_12bt69             False                False   \n",
       "3              text     t2_180g0sph             False                False   \n",
       "4              text     t2_180g0sph               NaN                False   \n",
       "\n",
       "   ... wls link_flair_css_class                link_flair_template_id  \\\n",
       "0  ...   6                  NaN                                   NaN   \n",
       "1  ...   6               trades  9f73d782-65e6-11e5-8878-12292be1b4e9   \n",
       "2  ...   6                  NaN                                   NaN   \n",
       "3  ...   6        advicerequest  75a227ec-65e6-11e5-96ee-12d48f46797b   \n",
       "4  ...   6        advicerequest  75a227ec-65e6-11e5-96ee-12d48f46797b   \n",
       "\n",
       "   link_flair_text  removed_by_category post_hint preview  \\\n",
       "0              NaN                  NaN       NaN     NaN   \n",
       "1           Trades            moderator       NaN     NaN   \n",
       "2              NaN            moderator       NaN     NaN   \n",
       "3   Advice Request                  NaN       NaN     NaN   \n",
       "4   Advice Request            moderator       NaN     NaN   \n",
       "\n",
       "  author_flair_background_color author_flair_text_color  banned_by  \n",
       "0                           NaN                     NaN        NaN  \n",
       "1                           NaN                     NaN        NaN  \n",
       "2                           NaN                     NaN        NaN  \n",
       "3                           NaN                     NaN        NaN  \n",
       "4                           NaN                     NaN        NaN  \n",
       "\n",
       "[5 rows x 68 columns]"
      ]
     },
     "execution_count": 12,
     "metadata": {},
     "output_type": "execute_result"
    }
   ],
   "source": [
    "df.head()"
   ]
  },
  {
   "cell_type": "code",
   "execution_count": 13,
   "id": "5729007a",
   "metadata": {
    "scrolled": true
   },
   "outputs": [],
   "source": [
    "# select only 4 columns for dataframe 'subreddit','selftext', 'title','created_utc'\n",
    "data = df[['subreddit','selftext', 'title','created_utc']]"
   ]
  },
  {
   "cell_type": "code",
   "execution_count": 14,
   "id": "4d96668f",
   "metadata": {},
   "outputs": [
    {
     "data": {
      "text/html": [
       "<div>\n",
       "<style scoped>\n",
       "    .dataframe tbody tr th:only-of-type {\n",
       "        vertical-align: middle;\n",
       "    }\n",
       "\n",
       "    .dataframe tbody tr th {\n",
       "        vertical-align: top;\n",
       "    }\n",
       "\n",
       "    .dataframe thead th {\n",
       "        text-align: right;\n",
       "    }\n",
       "</style>\n",
       "<table border=\"1\" class=\"dataframe\">\n",
       "  <thead>\n",
       "    <tr style=\"text-align: right;\">\n",
       "      <th></th>\n",
       "      <th>subreddit</th>\n",
       "      <th>selftext</th>\n",
       "      <th>title</th>\n",
       "      <th>created_utc</th>\n",
       "    </tr>\n",
       "  </thead>\n",
       "  <tbody>\n",
       "    <tr>\n",
       "      <th>0</th>\n",
       "      <td>stocks</td>\n",
       "      <td>I am earning very little at the moment but I w...</td>\n",
       "      <td>Advise on Long Term Stock?</td>\n",
       "      <td>1626851004</td>\n",
       "    </tr>\n",
       "    <tr>\n",
       "      <th>1</th>\n",
       "      <td>stocks</td>\n",
       "      <td>[removed]</td>\n",
       "      <td>Earning plays</td>\n",
       "      <td>1626847571</td>\n",
       "    </tr>\n",
       "    <tr>\n",
       "      <th>2</th>\n",
       "      <td>stocks</td>\n",
       "      <td>[removed]</td>\n",
       "      <td>Going long vega? what is the maximum loss?</td>\n",
       "      <td>1626847468</td>\n",
       "    </tr>\n",
       "    <tr>\n",
       "      <th>3</th>\n",
       "      <td>stocks</td>\n",
       "      <td>The stocks I chose were aapl, net, asts, icln,...</td>\n",
       "      <td>Dad told me to sell on Monday when the market ...</td>\n",
       "      <td>1626847423</td>\n",
       "    </tr>\n",
       "    <tr>\n",
       "      <th>4</th>\n",
       "      <td>stocks</td>\n",
       "      <td>[removed]</td>\n",
       "      <td>Newbie trader. Dad told me to sell when the ma...</td>\n",
       "      <td>1626847066</td>\n",
       "    </tr>\n",
       "  </tbody>\n",
       "</table>\n",
       "</div>"
      ],
      "text/plain": [
       "  subreddit                                           selftext  \\\n",
       "0    stocks  I am earning very little at the moment but I w...   \n",
       "1    stocks                                          [removed]   \n",
       "2    stocks                                          [removed]   \n",
       "3    stocks  The stocks I chose were aapl, net, asts, icln,...   \n",
       "4    stocks                                          [removed]   \n",
       "\n",
       "                                               title  created_utc  \n",
       "0                         Advise on Long Term Stock?   1626851004  \n",
       "1                                      Earning plays   1626847571  \n",
       "2         Going long vega? what is the maximum loss?   1626847468  \n",
       "3  Dad told me to sell on Monday when the market ...   1626847423  \n",
       "4  Newbie trader. Dad told me to sell when the ma...   1626847066  "
      ]
     },
     "execution_count": 14,
     "metadata": {},
     "output_type": "execute_result"
    }
   ],
   "source": [
    "data.head()"
   ]
  },
  {
   "cell_type": "code",
   "execution_count": 15,
   "id": "c4797093",
   "metadata": {},
   "outputs": [
    {
     "data": {
      "text/plain": [
       "subreddit      0\n",
       "selftext       7\n",
       "title          0\n",
       "created_utc    0\n",
       "dtype: int64"
      ]
     },
     "execution_count": 15,
     "metadata": {},
     "output_type": "execute_result"
    }
   ],
   "source": [
    "data.isnull().sum()"
   ]
  },
  {
   "cell_type": "code",
   "execution_count": 16,
   "id": "9b261ebb",
   "metadata": {},
   "outputs": [
    {
     "data": {
      "text/plain": [
       "1626806479"
      ]
     },
     "execution_count": 16,
     "metadata": {},
     "output_type": "execute_result"
    }
   ],
   "source": [
    "data.iloc[99]['created_utc']"
   ]
  },
  {
   "cell_type": "code",
   "execution_count": 18,
   "id": "3cf408b5",
   "metadata": {},
   "outputs": [
    {
     "data": {
      "text/plain": [
       "subreddit                                                 stocks\n",
       "selftext                                               [removed]\n",
       "title          Market Commentary (Current Status of the Marke...\n",
       "created_utc                                           1626806479\n",
       "Name: 99, dtype: object"
      ]
     },
     "execution_count": 18,
     "metadata": {},
     "output_type": "execute_result"
    }
   ],
   "source": [
    "data.iloc[-1]"
   ]
  },
  {
   "cell_type": "code",
   "execution_count": 19,
   "id": "3d06918f",
   "metadata": {},
   "outputs": [
    {
     "name": "stdout",
     "output_type": "stream",
     "text": [
      "200\n",
      "0 :  100\n",
      "200\n",
      "1 :  100\n",
      "200\n",
      "2 :  100\n",
      "200\n",
      "3 :  100\n",
      "200\n",
      "4 :  100\n",
      "200\n",
      "5 :  100\n",
      "200\n",
      "6 :  100\n",
      "200\n",
      "7 :  100\n",
      "200\n",
      "8 :  100\n",
      "200\n",
      "9 :  100\n",
      "200\n",
      "10 :  100\n",
      "200\n",
      "11 :  100\n",
      "200\n",
      "12 :  100\n",
      "200\n",
      "13 :  100\n",
      "200\n",
      "14 :  100\n",
      "200\n",
      "15 :  100\n",
      "200\n",
      "16 :  100\n",
      "200\n",
      "17 :  100\n",
      "200\n",
      "18 :  100\n",
      "200\n",
      "19 :  100\n",
      "200\n",
      "20 :  100\n",
      "200\n",
      "21 :  100\n",
      "200\n",
      "22 :  100\n",
      "200\n",
      "23 :  100\n",
      "200\n",
      "24 :  100\n",
      "200\n",
      "25 :  100\n",
      "200\n",
      "26 :  100\n",
      "200\n",
      "27 :  100\n",
      "200\n",
      "28 :  100\n",
      "200\n",
      "29 :  100\n",
      "200\n",
      "30 :  100\n",
      "200\n",
      "31 :  100\n",
      "200\n",
      "32 :  100\n",
      "200\n",
      "33 :  100\n",
      "200\n",
      "34 :  100\n",
      "200\n",
      "35 :  100\n",
      "200\n",
      "36 :  100\n",
      "200\n",
      "37 :  100\n",
      "200\n",
      "38 :  100\n",
      "200\n",
      "39 :  100\n",
      "200\n",
      "40 :  100\n",
      "200\n",
      "41 :  100\n",
      "200\n",
      "42 :  100\n",
      "200\n",
      "43 :  100\n",
      "200\n",
      "44 :  100\n",
      "200\n",
      "45 :  100\n",
      "200\n",
      "46 :  100\n",
      "200\n",
      "47 :  100\n",
      "200\n",
      "48 :  100\n",
      "200\n",
      "49 :  100\n"
     ]
    }
   ],
   "source": [
    "# create for loop to scrape data from r/stocks\n",
    "\n",
    "for i in range(50):\n",
    "    params = {\n",
    "        \"subreddit\": \"stocks\",\n",
    "        \"size\": 100,\n",
    "        \"before\": data.iloc[-1]['created_utc']\n",
    "    }\n",
    "    response = requests.get(url, params)\n",
    "    print(response.status_code)\n",
    "    scraped_data = response.json()\n",
    "    posts = scraped_data[\"data\"]\n",
    "    print(i, \": \", len(posts))\n",
    "    df = pd.DataFrame(posts)\n",
    "    data_new = df[['subreddit','selftext', 'title','created_utc']]\n",
    "    data = data.append(data_new, ignore_index=True)\n",
    "    time.sleep(10)\n",
    "    "
   ]
  },
  {
   "cell_type": "code",
   "execution_count": 20,
   "id": "61578612",
   "metadata": {},
   "outputs": [
    {
     "data": {
      "text/html": [
       "<div>\n",
       "<style scoped>\n",
       "    .dataframe tbody tr th:only-of-type {\n",
       "        vertical-align: middle;\n",
       "    }\n",
       "\n",
       "    .dataframe tbody tr th {\n",
       "        vertical-align: top;\n",
       "    }\n",
       "\n",
       "    .dataframe thead th {\n",
       "        text-align: right;\n",
       "    }\n",
       "</style>\n",
       "<table border=\"1\" class=\"dataframe\">\n",
       "  <thead>\n",
       "    <tr style=\"text-align: right;\">\n",
       "      <th></th>\n",
       "      <th>subreddit</th>\n",
       "      <th>selftext</th>\n",
       "      <th>title</th>\n",
       "      <th>created_utc</th>\n",
       "    </tr>\n",
       "  </thead>\n",
       "  <tbody>\n",
       "    <tr>\n",
       "      <th>5095</th>\n",
       "      <td>stocks</td>\n",
       "      <td>[removed]</td>\n",
       "      <td>IRBT??? All of the sudden 28% short on the float</td>\n",
       "      <td>1624393162</td>\n",
       "    </tr>\n",
       "    <tr>\n",
       "      <th>5096</th>\n",
       "      <td>stocks</td>\n",
       "      <td>[removed]</td>\n",
       "      <td>Trader Bot 9000</td>\n",
       "      <td>1624393082</td>\n",
       "    </tr>\n",
       "    <tr>\n",
       "      <th>5097</th>\n",
       "      <td>stocks</td>\n",
       "      <td>https://www.bloomberg.com/news/articles/2021-0...</td>\n",
       "      <td>MSFT closes at $2 Trillion, as second U.S. com...</td>\n",
       "      <td>1624393058</td>\n",
       "    </tr>\n",
       "    <tr>\n",
       "      <th>5098</th>\n",
       "      <td>stocks</td>\n",
       "      <td>[removed]</td>\n",
       "      <td>5g Stocks Evaluation</td>\n",
       "      <td>1624393048</td>\n",
       "    </tr>\n",
       "    <tr>\n",
       "      <th>5099</th>\n",
       "      <td>stocks</td>\n",
       "      <td>[removed]</td>\n",
       "      <td>MSFT closes at $2 Trillion, as second U.S. com...</td>\n",
       "      <td>1624392821</td>\n",
       "    </tr>\n",
       "  </tbody>\n",
       "</table>\n",
       "</div>"
      ],
      "text/plain": [
       "     subreddit                                           selftext  \\\n",
       "5095    stocks                                          [removed]   \n",
       "5096    stocks                                          [removed]   \n",
       "5097    stocks  https://www.bloomberg.com/news/articles/2021-0...   \n",
       "5098    stocks                                          [removed]   \n",
       "5099    stocks                                          [removed]   \n",
       "\n",
       "                                                  title  created_utc  \n",
       "5095   IRBT??? All of the sudden 28% short on the float   1624393162  \n",
       "5096                                    Trader Bot 9000   1624393082  \n",
       "5097  MSFT closes at $2 Trillion, as second U.S. com...   1624393058  \n",
       "5098                               5g Stocks Evaluation   1624393048  \n",
       "5099  MSFT closes at $2 Trillion, as second U.S. com...   1624392821  "
      ]
     },
     "execution_count": 20,
     "metadata": {},
     "output_type": "execute_result"
    }
   ],
   "source": [
    "data.tail()"
   ]
  },
  {
   "cell_type": "code",
   "execution_count": 21,
   "id": "3b7674e4",
   "metadata": {},
   "outputs": [
    {
     "data": {
      "text/plain": [
       "(5100, 4)"
      ]
     },
     "execution_count": 21,
     "metadata": {},
     "output_type": "execute_result"
    }
   ],
   "source": [
    "data.shape"
   ]
  },
  {
   "cell_type": "code",
   "execution_count": 22,
   "id": "33a00130",
   "metadata": {},
   "outputs": [],
   "source": [
    "#save train_dataframe to csv\n",
    "data.to_csv('../data/stocks.csv',index=False)"
   ]
  },
  {
   "cell_type": "code",
   "execution_count": null,
   "id": "0b83ffe5",
   "metadata": {},
   "outputs": [],
   "source": []
  }
 ],
 "metadata": {
  "kernelspec": {
   "display_name": "Python 3",
   "language": "python",
   "name": "python3"
  },
  "language_info": {
   "codemirror_mode": {
    "name": "ipython",
    "version": 3
   },
   "file_extension": ".py",
   "mimetype": "text/x-python",
   "name": "python",
   "nbconvert_exporter": "python",
   "pygments_lexer": "ipython3",
   "version": "3.8.8"
  }
 },
 "nbformat": 4,
 "nbformat_minor": 5
}
